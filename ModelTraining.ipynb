{
  "cells": [
    {
      "cell_type": "markdown",
      "source": [
        "**Trained with google colab**"
      ],
      "metadata": {
        "id": "lr26BmYjkhaq"
      },
      "id": "lr26BmYjkhaq"
    },
    {
      "cell_type": "markdown",
      "source": [
        "# Import thư viện"
      ],
      "metadata": {
        "id": "2kQReip36xJZ"
      },
      "id": "2kQReip36xJZ"
    },
    {
      "cell_type": "code",
      "execution_count": null,
      "id": "ab304ec6",
      "metadata": {
        "execution": {
          "iopub.execute_input": "2023-03-11T17:36:34.379920Z",
          "iopub.status.busy": "2023-03-11T17:36:34.379294Z",
          "iopub.status.idle": "2023-03-11T17:36:46.395401Z",
          "shell.execute_reply": "2023-03-11T17:36:46.393776Z"
        },
        "id": "ab304ec6",
        "papermill": {
          "duration": 12.030961,
          "end_time": "2023-03-11T17:36:46.398986",
          "exception": false,
          "start_time": "2023-03-11T17:36:34.368025",
          "status": "completed"
        },
        "tags": []
      },
      "outputs": [],
      "source": [
        "import numpy as np\n",
        "import tensorflow as tf\n",
        "import os\n",
        "import matplotlib.pyplot as plt\n",
        "import cv2\n",
        "from math import *\n",
        "\n",
        "import sklearn.model_selection\n",
        "from sklearn.metrics import *"
      ]
    },
    {
      "cell_type": "code",
      "source": [
        "from google.colab import drive\n",
        "drive.mount('/content/drive')"
      ],
      "metadata": {
        "id": "lzjfX7wduHJS",
        "colab": {
          "base_uri": "https://localhost:8080/"
        },
        "outputId": "53cfdc21-dcbd-455d-e55d-e1e4aa5b28e2"
      },
      "id": "lzjfX7wduHJS",
      "execution_count": null,
      "outputs": [
        {
          "output_type": "stream",
          "name": "stdout",
          "text": [
            "Mounted at /content/drive\n"
          ]
        }
      ]
    },
    {
      "cell_type": "code",
      "execution_count": null,
      "id": "96a670d0",
      "metadata": {
        "execution": {
          "iopub.execute_input": "2023-03-11T17:36:46.420258Z",
          "iopub.status.busy": "2023-03-11T17:36:46.418423Z",
          "iopub.status.idle": "2023-03-11T17:36:46.425618Z",
          "shell.execute_reply": "2023-03-11T17:36:46.424192Z"
        },
        "id": "96a670d0",
        "papermill": {
          "duration": 0.021221,
          "end_time": "2023-03-11T17:36:46.429176",
          "exception": false,
          "start_time": "2023-03-11T17:36:46.407955",
          "status": "completed"
        },
        "tags": []
      },
      "outputs": [],
      "source": [
        "# !unzip \"/content/CatDogGreyData.zip\""
      ]
    },
    {
      "cell_type": "code",
      "execution_count": null,
      "id": "5eb54f1d",
      "metadata": {
        "execution": {
          "iopub.execute_input": "2023-03-11T17:36:46.449823Z",
          "iopub.status.busy": "2023-03-11T17:36:46.448538Z",
          "iopub.status.idle": "2023-03-11T17:36:46.455005Z",
          "shell.execute_reply": "2023-03-11T17:36:46.453364Z"
        },
        "id": "5eb54f1d",
        "papermill": {
          "duration": 0.021056,
          "end_time": "2023-03-11T17:36:46.459126",
          "exception": false,
          "start_time": "2023-03-11T17:36:46.438070",
          "status": "completed"
        },
        "tags": []
      },
      "outputs": [],
      "source": [
        "# pip install split-folders"
      ]
    },
    {
      "cell_type": "code",
      "execution_count": null,
      "id": "dc1b0cd5",
      "metadata": {
        "execution": {
          "iopub.execute_input": "2023-03-11T17:36:46.480058Z",
          "iopub.status.busy": "2023-03-11T17:36:46.478828Z",
          "iopub.status.idle": "2023-03-11T17:36:46.485135Z",
          "shell.execute_reply": "2023-03-11T17:36:46.483558Z"
        },
        "id": "dc1b0cd5",
        "papermill": {
          "duration": 0.019802,
          "end_time": "2023-03-11T17:36:46.488042",
          "exception": false,
          "start_time": "2023-03-11T17:36:46.468240",
          "status": "completed"
        },
        "tags": []
      },
      "outputs": [],
      "source": [
        "# import splitfolders"
      ]
    },
    {
      "cell_type": "markdown",
      "source": [
        "# Đọc dữ liệu & tiền xử lý"
      ],
      "metadata": {
        "id": "SYGKouKQ60if"
      },
      "id": "SYGKouKQ60if"
    },
    {
      "cell_type": "code",
      "execution_count": null,
      "id": "2104f3b8",
      "metadata": {
        "execution": {
          "iopub.execute_input": "2023-03-11T17:36:46.527893Z",
          "iopub.status.busy": "2023-03-11T17:36:46.526161Z",
          "iopub.status.idle": "2023-03-11T17:36:46.533256Z",
          "shell.execute_reply": "2023-03-11T17:36:46.531895Z"
        },
        "id": "2104f3b8",
        "papermill": {
          "duration": 0.020939,
          "end_time": "2023-03-11T17:36:46.536387",
          "exception": false,
          "start_time": "2023-03-11T17:36:46.515448",
          "status": "completed"
        },
        "tags": []
      },
      "outputs": [],
      "source": [
        "# splitfolders.ratio(\"/content/drive/MyDrive/Các công cụ lập trình AI/Animal Images\", output=\"/content/drive/MyDrive/Các công cụ lập trình AI/AnimalImagesSplit/\", seed=1337, ratio=(.75, .2, .05), move=True)"
      ]
    },
    {
      "cell_type": "code",
      "execution_count": null,
      "id": "7f8a63c0",
      "metadata": {
        "execution": {
          "iopub.execute_input": "2023-03-11T17:36:46.556697Z",
          "iopub.status.busy": "2023-03-11T17:36:46.556181Z",
          "iopub.status.idle": "2023-03-11T17:36:46.563255Z",
          "shell.execute_reply": "2023-03-11T17:36:46.561636Z"
        },
        "id": "7f8a63c0",
        "papermill": {
          "duration": 0.021884,
          "end_time": "2023-03-11T17:36:46.567293",
          "exception": false,
          "start_time": "2023-03-11T17:36:46.545409",
          "status": "completed"
        },
        "tags": []
      },
      "outputs": [],
      "source": [
        "ImageGen = tf.keras.preprocessing.image.ImageDataGenerator(rescale=1./255,)\n",
        "                                                          #  horizontal_flip = True,\n",
        "                                                          #  rotation_range=20,\n",
        "                                                          #  width_shift_range=0.1, \n",
        "                                                          #  height_shift_range=0.1)"
      ]
    },
    {
      "cell_type": "code",
      "execution_count": null,
      "id": "a1c4d2db",
      "metadata": {
        "execution": {
          "iopub.execute_input": "2023-03-11T17:36:46.588322Z",
          "iopub.status.busy": "2023-03-11T17:36:46.586956Z",
          "iopub.status.idle": "2023-03-11T17:36:55.242187Z",
          "shell.execute_reply": "2023-03-11T17:36:55.240736Z"
        },
        "id": "a1c4d2db",
        "papermill": {
          "duration": 8.669575,
          "end_time": "2023-03-11T17:36:55.245810",
          "exception": false,
          "start_time": "2023-03-11T17:36:46.576235",
          "status": "completed"
        },
        "tags": []
      },
      "outputs": [],
      "source": [
        "# img_train = ImageGen.flow_from_directory('/kaggle/input/catdoggraysplitted/AnimalImagesSplit/train', target_size=(224, 224), batch_size = 100,class_mode = 'binary')"
      ]
    },
    {
      "cell_type": "code",
      "execution_count": null,
      "id": "dba6da11",
      "metadata": {
        "execution": {
          "iopub.execute_input": "2023-03-11T17:36:55.267466Z",
          "iopub.status.busy": "2023-03-11T17:36:55.267012Z",
          "iopub.status.idle": "2023-03-11T17:36:57.094312Z",
          "shell.execute_reply": "2023-03-11T17:36:57.092857Z"
        },
        "id": "dba6da11",
        "papermill": {
          "duration": 1.842449,
          "end_time": "2023-03-11T17:36:57.097759",
          "exception": false,
          "start_time": "2023-03-11T17:36:55.255310",
          "status": "completed"
        },
        "tags": []
      },
      "outputs": [],
      "source": [
        "# img_val = ImageGen.flow_from_directory('/kaggle/input/catdoggraysplitted/AnimalImagesSplit/val', target_size=(224, 224), batch_size = 100,class_mode = 'binary')"
      ]
    },
    {
      "cell_type": "code",
      "execution_count": null,
      "id": "367268ba",
      "metadata": {
        "execution": {
          "iopub.execute_input": "2023-03-11T17:36:57.118693Z",
          "iopub.status.busy": "2023-03-11T17:36:57.118193Z",
          "iopub.status.idle": "2023-03-11T17:36:57.333201Z",
          "shell.execute_reply": "2023-03-11T17:36:57.331534Z"
        },
        "id": "367268ba",
        "papermill": {
          "duration": 0.229991,
          "end_time": "2023-03-11T17:36:57.336936",
          "exception": false,
          "start_time": "2023-03-11T17:36:57.106945",
          "status": "completed"
        },
        "tags": []
      },
      "outputs": [],
      "source": [
        "# img_test = ImageGen.flow_from_directory('/kaggle/input/catdoggraysplitted/AnimalImagesSplit/test', target_size=(224, 224), batch_size = 100,class_mode = 'binary', shuffle = False)"
      ]
    },
    {
      "cell_type": "code",
      "source": [
        "img_train = ImageGen.flow_from_directory('/content/drive/MyDrive/Các công cụ lập trình AI/AnimalImagesSplit/train', target_size=(224, 224), batch_size = 100,class_mode = 'binary')"
      ],
      "metadata": {
        "id": "RfbdVjG9uC90",
        "colab": {
          "base_uri": "https://localhost:8080/"
        },
        "outputId": "7e1de7cd-0dc9-4bd8-9277-e2d6779768ba"
      },
      "id": "RfbdVjG9uC90",
      "execution_count": null,
      "outputs": [
        {
          "output_type": "stream",
          "name": "stdout",
          "text": [
            "Found 22545 images belonging to 2 classes.\n"
          ]
        }
      ]
    },
    {
      "cell_type": "code",
      "source": [
        "img_val = ImageGen.flow_from_directory('/content/drive/MyDrive/Các công cụ lập trình AI/AnimalImagesSplit/val', target_size=(224, 224), batch_size = 100,class_mode = 'binary')"
      ],
      "metadata": {
        "id": "T-YsZEAxuCU8",
        "colab": {
          "base_uri": "https://localhost:8080/"
        },
        "outputId": "65d8f646-0189-4156-861f-309df4b007d6"
      },
      "id": "T-YsZEAxuCU8",
      "execution_count": null,
      "outputs": [
        {
          "output_type": "stream",
          "name": "stdout",
          "text": [
            "Found 6012 images belonging to 2 classes.\n"
          ]
        }
      ]
    },
    {
      "cell_type": "code",
      "source": [
        "img_test = ImageGen.flow_from_directory('/content/drive/MyDrive/Các công cụ lập trình AI/AnimalImagesSplit/test', target_size=(224, 224), batch_size = 100,class_mode = 'binary', shuffle = False)"
      ],
      "metadata": {
        "id": "XyexFIKTuCTS",
        "colab": {
          "base_uri": "https://localhost:8080/"
        },
        "outputId": "c174851d-921c-4d70-e97c-502bfd62ed2f"
      },
      "id": "XyexFIKTuCTS",
      "execution_count": null,
      "outputs": [
        {
          "output_type": "stream",
          "name": "stdout",
          "text": [
            "Found 1504 images belonging to 2 classes.\n"
          ]
        }
      ]
    },
    {
      "cell_type": "code",
      "execution_count": null,
      "id": "82cdee4f",
      "metadata": {
        "execution": {
          "iopub.execute_input": "2023-03-11T17:36:57.358399Z",
          "iopub.status.busy": "2023-03-11T17:36:57.357945Z",
          "iopub.status.idle": "2023-03-11T17:36:57.365184Z",
          "shell.execute_reply": "2023-03-11T17:36:57.363687Z"
        },
        "id": "82cdee4f",
        "papermill": {
          "duration": 0.021854,
          "end_time": "2023-03-11T17:36:57.368830",
          "exception": false,
          "start_time": "2023-03-11T17:36:57.346976",
          "status": "completed"
        },
        "tags": [],
        "colab": {
          "base_uri": "https://localhost:8080/"
        },
        "outputId": "b10c0046-9990-4988-c5d6-99ace8ef682a"
      },
      "outputs": [
        {
          "output_type": "stream",
          "name": "stdout",
          "text": [
            "Class indices: {'cats': 0, 'dogs': 1}\n"
          ]
        }
      ],
      "source": [
        "print(\"Class indices:\", img_train.class_indices)"
      ]
    },
    {
      "cell_type": "markdown",
      "source": [
        "# Xây dựng mô hình"
      ],
      "metadata": {
        "id": "E9yM2eXQ6tmK"
      },
      "id": "E9yM2eXQ6tmK"
    },
    {
      "cell_type": "code",
      "execution_count": null,
      "id": "cf574580",
      "metadata": {
        "execution": {
          "iopub.execute_input": "2023-03-11T17:36:57.409107Z",
          "iopub.status.busy": "2023-03-11T17:36:57.408176Z",
          "iopub.status.idle": "2023-03-11T17:37:08.032219Z",
          "shell.execute_reply": "2023-03-11T17:37:08.030674Z"
        },
        "papermill": {
          "duration": 10.638696,
          "end_time": "2023-03-11T17:37:08.035765",
          "exception": false,
          "start_time": "2023-03-11T17:36:57.397069",
          "status": "completed"
        },
        "tags": [],
        "id": "cf574580",
        "outputId": "90a080f4-f868-434f-a356-9a165b3bbb52"
      },
      "outputs": [
        {
          "name": "stdout",
          "output_type": "stream",
          "text": [
            "Downloading data from https://storage.googleapis.com/tensorflow/keras-applications/resnet/resnet50_weights_tf_dim_ordering_tf_kernels_notop.h5\n",
            "94765736/94765736 [==============================] - 4s 0us/step\n"
          ]
        }
      ],
      "source": [
        "pretrained_model = tf.keras.applications.resnet50.ResNet50(input_shape = (224,224,3),include_top=False,weights=\"imagenet\")"
      ]
    },
    {
      "cell_type": "code",
      "execution_count": null,
      "id": "e4a0c2e6",
      "metadata": {
        "execution": {
          "iopub.execute_input": "2023-03-11T17:37:08.068309Z",
          "iopub.status.busy": "2023-03-11T17:37:08.067842Z",
          "iopub.status.idle": "2023-03-11T17:37:08.076532Z",
          "shell.execute_reply": "2023-03-11T17:37:08.075030Z"
        },
        "id": "e4a0c2e6",
        "papermill": {
          "duration": 0.028368,
          "end_time": "2023-03-11T17:37:08.079544",
          "exception": false,
          "start_time": "2023-03-11T17:37:08.051176",
          "status": "completed"
        },
        "tags": []
      },
      "outputs": [],
      "source": [
        "def build_model():\n",
        "  inputs = tf.keras.layers.Input((224,224,3),name = 'input')\n",
        "\n",
        "  model = tf.keras.applications.resnet50.ResNet50(include_top=False,weights=\"imagenet\", input_tensor = inputs)\n",
        "  x = model.output\n",
        "  x = tf.keras.layers.GlobalAveragePooling2D(name = 'pooling')(x)\n",
        "  outputs = tf.keras.layers.Dense(1,activation = 'sigmoid',name = 'outputs')(x)\n",
        "\n",
        "  model = tf.keras.Model(inputs=inputs , outputs =outputs)\n",
        "\n",
        "  return model"
      ]
    },
    {
      "cell_type": "markdown",
      "id": "89d6301a",
      "metadata": {
        "id": "89d6301a",
        "papermill": {
          "duration": 0.014757,
          "end_time": "2023-03-11T17:37:08.109289",
          "exception": false,
          "start_time": "2023-03-11T17:37:08.094532",
          "status": "completed"
        },
        "tags": []
      },
      "source": []
    },
    {
      "cell_type": "code",
      "execution_count": null,
      "id": "310249ed",
      "metadata": {
        "execution": {
          "iopub.execute_input": "2023-03-11T17:37:08.141652Z",
          "iopub.status.busy": "2023-03-11T17:37:08.141140Z",
          "iopub.status.idle": "2023-03-11T17:37:11.391353Z",
          "shell.execute_reply": "2023-03-11T17:37:11.390318Z"
        },
        "id": "310249ed",
        "jupyter": {
          "outputs_hidden": true
        },
        "papermill": {
          "duration": 4.012254,
          "end_time": "2023-03-11T17:37:12.136855",
          "exception": false,
          "start_time": "2023-03-11T17:37:08.124601",
          "status": "completed"
        },
        "tags": [],
        "outputId": "6871e445-005c-4c29-947b-5a81c22a1824"
      },
      "outputs": [
        {
          "name": "stdout",
          "output_type": "stream",
          "text": [
            "Model: \"model\"\n",
            "__________________________________________________________________________________________________\n",
            " Layer (type)                   Output Shape         Param #     Connected to                     \n",
            "==================================================================================================\n",
            " input (InputLayer)             [(None, 224, 224, 3  0           []                               \n",
            "                                )]                                                                \n",
            "                                                                                                  \n",
            " conv1_pad (ZeroPadding2D)      (None, 230, 230, 3)  0           ['input[0][0]']                  \n",
            "                                                                                                  \n",
            " conv1_conv (Conv2D)            (None, 112, 112, 64  9472        ['conv1_pad[0][0]']              \n",
            "                                )                                                                 \n",
            "                                                                                                  \n",
            " conv1_bn (BatchNormalization)  (None, 112, 112, 64  256         ['conv1_conv[0][0]']             \n",
            "                                )                                                                 \n",
            "                                                                                                  \n",
            " conv1_relu (Activation)        (None, 112, 112, 64  0           ['conv1_bn[0][0]']               \n",
            "                                )                                                                 \n",
            "                                                                                                  \n",
            " pool1_pad (ZeroPadding2D)      (None, 114, 114, 64  0           ['conv1_relu[0][0]']             \n",
            "                                )                                                                 \n",
            "                                                                                                  \n",
            " pool1_pool (MaxPooling2D)      (None, 56, 56, 64)   0           ['pool1_pad[0][0]']              \n",
            "                                                                                                  \n",
            " conv2_block1_1_conv (Conv2D)   (None, 56, 56, 64)   4160        ['pool1_pool[0][0]']             \n",
            "                                                                                                  \n",
            " conv2_block1_1_bn (BatchNormal  (None, 56, 56, 64)  256         ['conv2_block1_1_conv[0][0]']    \n",
            " ization)                                                                                         \n",
            "                                                                                                  \n",
            " conv2_block1_1_relu (Activatio  (None, 56, 56, 64)  0           ['conv2_block1_1_bn[0][0]']      \n",
            " n)                                                                                               \n",
            "                                                                                                  \n",
            " conv2_block1_2_conv (Conv2D)   (None, 56, 56, 64)   36928       ['conv2_block1_1_relu[0][0]']    \n",
            "                                                                                                  \n",
            " conv2_block1_2_bn (BatchNormal  (None, 56, 56, 64)  256         ['conv2_block1_2_conv[0][0]']    \n",
            " ization)                                                                                         \n",
            "                                                                                                  \n",
            " conv2_block1_2_relu (Activatio  (None, 56, 56, 64)  0           ['conv2_block1_2_bn[0][0]']      \n",
            " n)                                                                                               \n",
            "                                                                                                  \n",
            " conv2_block1_0_conv (Conv2D)   (None, 56, 56, 256)  16640       ['pool1_pool[0][0]']             \n",
            "                                                                                                  \n",
            " conv2_block1_3_conv (Conv2D)   (None, 56, 56, 256)  16640       ['conv2_block1_2_relu[0][0]']    \n",
            "                                                                                                  \n",
            " conv2_block1_0_bn (BatchNormal  (None, 56, 56, 256)  1024       ['conv2_block1_0_conv[0][0]']    \n",
            " ization)                                                                                         \n",
            "                                                                                                  \n",
            " conv2_block1_3_bn (BatchNormal  (None, 56, 56, 256)  1024       ['conv2_block1_3_conv[0][0]']    \n",
            " ization)                                                                                         \n",
            "                                                                                                  \n",
            " conv2_block1_add (Add)         (None, 56, 56, 256)  0           ['conv2_block1_0_bn[0][0]',      \n",
            "                                                                  'conv2_block1_3_bn[0][0]']      \n",
            "                                                                                                  \n",
            " conv2_block1_out (Activation)  (None, 56, 56, 256)  0           ['conv2_block1_add[0][0]']       \n",
            "                                                                                                  \n",
            " conv2_block2_1_conv (Conv2D)   (None, 56, 56, 64)   16448       ['conv2_block1_out[0][0]']       \n",
            "                                                                                                  \n",
            " conv2_block2_1_bn (BatchNormal  (None, 56, 56, 64)  256         ['conv2_block2_1_conv[0][0]']    \n",
            " ization)                                                                                         \n",
            "                                                                                                  \n",
            " conv2_block2_1_relu (Activatio  (None, 56, 56, 64)  0           ['conv2_block2_1_bn[0][0]']      \n",
            " n)                                                                                               \n",
            "                                                                                                  \n",
            " conv2_block2_2_conv (Conv2D)   (None, 56, 56, 64)   36928       ['conv2_block2_1_relu[0][0]']    \n",
            "                                                                                                  \n",
            " conv2_block2_2_bn (BatchNormal  (None, 56, 56, 64)  256         ['conv2_block2_2_conv[0][0]']    \n",
            " ization)                                                                                         \n",
            "                                                                                                  \n",
            " conv2_block2_2_relu (Activatio  (None, 56, 56, 64)  0           ['conv2_block2_2_bn[0][0]']      \n",
            " n)                                                                                               \n",
            "                                                                                                  \n",
            " conv2_block2_3_conv (Conv2D)   (None, 56, 56, 256)  16640       ['conv2_block2_2_relu[0][0]']    \n",
            "                                                                                                  \n",
            " conv2_block2_3_bn (BatchNormal  (None, 56, 56, 256)  1024       ['conv2_block2_3_conv[0][0]']    \n",
            " ization)                                                                                         \n",
            "                                                                                                  \n",
            " conv2_block2_add (Add)         (None, 56, 56, 256)  0           ['conv2_block1_out[0][0]',       \n",
            "                                                                  'conv2_block2_3_bn[0][0]']      \n",
            "                                                                                                  \n",
            " conv2_block2_out (Activation)  (None, 56, 56, 256)  0           ['conv2_block2_add[0][0]']       \n",
            "                                                                                                  \n",
            " conv2_block3_1_conv (Conv2D)   (None, 56, 56, 64)   16448       ['conv2_block2_out[0][0]']       \n",
            "                                                                                                  \n",
            " conv2_block3_1_bn (BatchNormal  (None, 56, 56, 64)  256         ['conv2_block3_1_conv[0][0]']    \n",
            " ization)                                                                                         \n",
            "                                                                                                  \n",
            " conv2_block3_1_relu (Activatio  (None, 56, 56, 64)  0           ['conv2_block3_1_bn[0][0]']      \n",
            " n)                                                                                               \n",
            "                                                                                                  \n",
            " conv2_block3_2_conv (Conv2D)   (None, 56, 56, 64)   36928       ['conv2_block3_1_relu[0][0]']    \n",
            "                                                                                                  \n",
            " conv2_block3_2_bn (BatchNormal  (None, 56, 56, 64)  256         ['conv2_block3_2_conv[0][0]']    \n",
            " ization)                                                                                         \n",
            "                                                                                                  \n",
            " conv2_block3_2_relu (Activatio  (None, 56, 56, 64)  0           ['conv2_block3_2_bn[0][0]']      \n",
            " n)                                                                                               \n",
            "                                                                                                  \n",
            " conv2_block3_3_conv (Conv2D)   (None, 56, 56, 256)  16640       ['conv2_block3_2_relu[0][0]']    \n",
            "                                                                                                  \n",
            " conv2_block3_3_bn (BatchNormal  (None, 56, 56, 256)  1024       ['conv2_block3_3_conv[0][0]']    \n",
            " ization)                                                                                         \n",
            "                                                                                                  \n",
            " conv2_block3_add (Add)         (None, 56, 56, 256)  0           ['conv2_block2_out[0][0]',       \n",
            "                                                                  'conv2_block3_3_bn[0][0]']      \n",
            "                                                                                                  \n",
            " conv2_block3_out (Activation)  (None, 56, 56, 256)  0           ['conv2_block3_add[0][0]']       \n",
            "                                                                                                  \n",
            " conv3_block1_1_conv (Conv2D)   (None, 28, 28, 128)  32896       ['conv2_block3_out[0][0]']       \n",
            "                                                                                                  \n",
            " conv3_block1_1_bn (BatchNormal  (None, 28, 28, 128)  512        ['conv3_block1_1_conv[0][0]']    \n",
            " ization)                                                                                         \n",
            "                                                                                                  \n",
            " conv3_block1_1_relu (Activatio  (None, 28, 28, 128)  0          ['conv3_block1_1_bn[0][0]']      \n",
            " n)                                                                                               \n",
            "                                                                                                  \n",
            " conv3_block1_2_conv (Conv2D)   (None, 28, 28, 128)  147584      ['conv3_block1_1_relu[0][0]']    \n",
            "                                                                                                  \n",
            " conv3_block1_2_bn (BatchNormal  (None, 28, 28, 128)  512        ['conv3_block1_2_conv[0][0]']    \n",
            " ization)                                                                                         \n",
            "                                                                                                  \n",
            " conv3_block1_2_relu (Activatio  (None, 28, 28, 128)  0          ['conv3_block1_2_bn[0][0]']      \n",
            " n)                                                                                               \n",
            "                                                                                                  \n",
            " conv3_block1_0_conv (Conv2D)   (None, 28, 28, 512)  131584      ['conv2_block3_out[0][0]']       \n",
            "                                                                                                  \n",
            " conv3_block1_3_conv (Conv2D)   (None, 28, 28, 512)  66048       ['conv3_block1_2_relu[0][0]']    \n",
            "                                                                                                  \n",
            " conv3_block1_0_bn (BatchNormal  (None, 28, 28, 512)  2048       ['conv3_block1_0_conv[0][0]']    \n",
            " ization)                                                                                         \n",
            "                                                                                                  \n",
            " conv3_block1_3_bn (BatchNormal  (None, 28, 28, 512)  2048       ['conv3_block1_3_conv[0][0]']    \n",
            " ization)                                                                                         \n",
            "                                                                                                  \n",
            " conv3_block1_add (Add)         (None, 28, 28, 512)  0           ['conv3_block1_0_bn[0][0]',      \n",
            "                                                                  'conv3_block1_3_bn[0][0]']      \n",
            "                                                                                                  \n",
            " conv3_block1_out (Activation)  (None, 28, 28, 512)  0           ['conv3_block1_add[0][0]']       \n",
            "                                                                                                  \n",
            " conv3_block2_1_conv (Conv2D)   (None, 28, 28, 128)  65664       ['conv3_block1_out[0][0]']       \n",
            "                                                                                                  \n",
            " conv3_block2_1_bn (BatchNormal  (None, 28, 28, 128)  512        ['conv3_block2_1_conv[0][0]']    \n",
            " ization)                                                                                         \n",
            "                                                                                                  \n",
            " conv3_block2_1_relu (Activatio  (None, 28, 28, 128)  0          ['conv3_block2_1_bn[0][0]']      \n",
            " n)                                                                                               \n",
            "                                                                                                  \n",
            " conv3_block2_2_conv (Conv2D)   (None, 28, 28, 128)  147584      ['conv3_block2_1_relu[0][0]']    \n",
            "                                                                                                  \n",
            " conv3_block2_2_bn (BatchNormal  (None, 28, 28, 128)  512        ['conv3_block2_2_conv[0][0]']    \n",
            " ization)                                                                                         \n",
            "                                                                                                  \n",
            " conv3_block2_2_relu (Activatio  (None, 28, 28, 128)  0          ['conv3_block2_2_bn[0][0]']      \n",
            " n)                                                                                               \n",
            "                                                                                                  \n",
            " conv3_block2_3_conv (Conv2D)   (None, 28, 28, 512)  66048       ['conv3_block2_2_relu[0][0]']    \n",
            "                                                                                                  \n",
            " conv3_block2_3_bn (BatchNormal  (None, 28, 28, 512)  2048       ['conv3_block2_3_conv[0][0]']    \n",
            " ization)                                                                                         \n",
            "                                                                                                  \n",
            " conv3_block2_add (Add)         (None, 28, 28, 512)  0           ['conv3_block1_out[0][0]',       \n",
            "                                                                  'conv3_block2_3_bn[0][0]']      \n",
            "                                                                                                  \n",
            " conv3_block2_out (Activation)  (None, 28, 28, 512)  0           ['conv3_block2_add[0][0]']       \n",
            "                                                                                                  \n",
            " conv3_block3_1_conv (Conv2D)   (None, 28, 28, 128)  65664       ['conv3_block2_out[0][0]']       \n",
            "                                                                                                  \n",
            " conv3_block3_1_bn (BatchNormal  (None, 28, 28, 128)  512        ['conv3_block3_1_conv[0][0]']    \n",
            " ization)                                                                                         \n",
            "                                                                                                  \n",
            " conv3_block3_1_relu (Activatio  (None, 28, 28, 128)  0          ['conv3_block3_1_bn[0][0]']      \n",
            " n)                                                                                               \n",
            "                                                                                                  \n",
            " conv3_block3_2_conv (Conv2D)   (None, 28, 28, 128)  147584      ['conv3_block3_1_relu[0][0]']    \n",
            "                                                                                                  \n",
            " conv3_block3_2_bn (BatchNormal  (None, 28, 28, 128)  512        ['conv3_block3_2_conv[0][0]']    \n",
            " ization)                                                                                         \n",
            "                                                                                                  \n",
            " conv3_block3_2_relu (Activatio  (None, 28, 28, 128)  0          ['conv3_block3_2_bn[0][0]']      \n",
            " n)                                                                                               \n",
            "                                                                                                  \n",
            " conv3_block3_3_conv (Conv2D)   (None, 28, 28, 512)  66048       ['conv3_block3_2_relu[0][0]']    \n",
            "                                                                                                  \n",
            " conv3_block3_3_bn (BatchNormal  (None, 28, 28, 512)  2048       ['conv3_block3_3_conv[0][0]']    \n",
            " ization)                                                                                         \n",
            "                                                                                                  \n",
            " conv3_block3_add (Add)         (None, 28, 28, 512)  0           ['conv3_block2_out[0][0]',       \n",
            "                                                                  'conv3_block3_3_bn[0][0]']      \n",
            "                                                                                                  \n",
            " conv3_block3_out (Activation)  (None, 28, 28, 512)  0           ['conv3_block3_add[0][0]']       \n",
            "                                                                                                  \n",
            " conv3_block4_1_conv (Conv2D)   (None, 28, 28, 128)  65664       ['conv3_block3_out[0][0]']       \n",
            "                                                                                                  \n",
            " conv3_block4_1_bn (BatchNormal  (None, 28, 28, 128)  512        ['conv3_block4_1_conv[0][0]']    \n",
            " ization)                                                                                         \n",
            "                                                                                                  \n",
            " conv3_block4_1_relu (Activatio  (None, 28, 28, 128)  0          ['conv3_block4_1_bn[0][0]']      \n",
            " n)                                                                                               \n",
            "                                                                                                  \n",
            " conv3_block4_2_conv (Conv2D)   (None, 28, 28, 128)  147584      ['conv3_block4_1_relu[0][0]']    \n",
            "                                                                                                  \n",
            " conv3_block4_2_bn (BatchNormal  (None, 28, 28, 128)  512        ['conv3_block4_2_conv[0][0]']    \n",
            " ization)                                                                                         \n",
            "                                                                                                  \n",
            " conv3_block4_2_relu (Activatio  (None, 28, 28, 128)  0          ['conv3_block4_2_bn[0][0]']      \n",
            " n)                                                                                               \n",
            "                                                                                                  \n",
            " conv3_block4_3_conv (Conv2D)   (None, 28, 28, 512)  66048       ['conv3_block4_2_relu[0][0]']    \n",
            "                                                                                                  \n",
            " conv3_block4_3_bn (BatchNormal  (None, 28, 28, 512)  2048       ['conv3_block4_3_conv[0][0]']    \n",
            " ization)                                                                                         \n",
            "                                                                                                  \n",
            " conv3_block4_add (Add)         (None, 28, 28, 512)  0           ['conv3_block3_out[0][0]',       \n",
            "                                                                  'conv3_block4_3_bn[0][0]']      \n",
            "                                                                                                  \n",
            " conv3_block4_out (Activation)  (None, 28, 28, 512)  0           ['conv3_block4_add[0][0]']       \n",
            "                                                                                                  \n",
            " conv4_block1_1_conv (Conv2D)   (None, 14, 14, 256)  131328      ['conv3_block4_out[0][0]']       \n",
            "                                                                                                  \n",
            " conv4_block1_1_bn (BatchNormal  (None, 14, 14, 256)  1024       ['conv4_block1_1_conv[0][0]']    \n",
            " ization)                                                                                         \n",
            "                                                                                                  \n",
            " conv4_block1_1_relu (Activatio  (None, 14, 14, 256)  0          ['conv4_block1_1_bn[0][0]']      \n",
            " n)                                                                                               \n",
            "                                                                                                  \n",
            " conv4_block1_2_conv (Conv2D)   (None, 14, 14, 256)  590080      ['conv4_block1_1_relu[0][0]']    \n",
            "                                                                                                  \n",
            " conv4_block1_2_bn (BatchNormal  (None, 14, 14, 256)  1024       ['conv4_block1_2_conv[0][0]']    \n",
            " ization)                                                                                         \n",
            "                                                                                                  \n",
            " conv4_block1_2_relu (Activatio  (None, 14, 14, 256)  0          ['conv4_block1_2_bn[0][0]']      \n",
            " n)                                                                                               \n",
            "                                                                                                  \n",
            " conv4_block1_0_conv (Conv2D)   (None, 14, 14, 1024  525312      ['conv3_block4_out[0][0]']       \n",
            "                                )                                                                 \n",
            "                                                                                                  \n",
            " conv4_block1_3_conv (Conv2D)   (None, 14, 14, 1024  263168      ['conv4_block1_2_relu[0][0]']    \n",
            "                                )                                                                 \n",
            "                                                                                                  \n",
            " conv4_block1_0_bn (BatchNormal  (None, 14, 14, 1024  4096       ['conv4_block1_0_conv[0][0]']    \n",
            " ization)                       )                                                                 \n",
            "                                                                                                  \n",
            " conv4_block1_3_bn (BatchNormal  (None, 14, 14, 1024  4096       ['conv4_block1_3_conv[0][0]']    \n",
            " ization)                       )                                                                 \n",
            "                                                                                                  \n",
            " conv4_block1_add (Add)         (None, 14, 14, 1024  0           ['conv4_block1_0_bn[0][0]',      \n",
            "                                )                                 'conv4_block1_3_bn[0][0]']      \n",
            "                                                                                                  \n",
            " conv4_block1_out (Activation)  (None, 14, 14, 1024  0           ['conv4_block1_add[0][0]']       \n",
            "                                )                                                                 \n",
            "                                                                                                  \n",
            " conv4_block2_1_conv (Conv2D)   (None, 14, 14, 256)  262400      ['conv4_block1_out[0][0]']       \n",
            "                                                                                                  \n",
            " conv4_block2_1_bn (BatchNormal  (None, 14, 14, 256)  1024       ['conv4_block2_1_conv[0][0]']    \n",
            " ization)                                                                                         \n",
            "                                                                                                  \n",
            " conv4_block2_1_relu (Activatio  (None, 14, 14, 256)  0          ['conv4_block2_1_bn[0][0]']      \n",
            " n)                                                                                               \n",
            "                                                                                                  \n",
            " conv4_block2_2_conv (Conv2D)   (None, 14, 14, 256)  590080      ['conv4_block2_1_relu[0][0]']    \n",
            "                                                                                                  \n",
            " conv4_block2_2_bn (BatchNormal  (None, 14, 14, 256)  1024       ['conv4_block2_2_conv[0][0]']    \n",
            " ization)                                                                                         \n",
            "                                                                                                  \n",
            " conv4_block2_2_relu (Activatio  (None, 14, 14, 256)  0          ['conv4_block2_2_bn[0][0]']      \n",
            " n)                                                                                               \n",
            "                                                                                                  \n",
            " conv4_block2_3_conv (Conv2D)   (None, 14, 14, 1024  263168      ['conv4_block2_2_relu[0][0]']    \n",
            "                                )                                                                 \n",
            "                                                                                                  \n",
            " conv4_block2_3_bn (BatchNormal  (None, 14, 14, 1024  4096       ['conv4_block2_3_conv[0][0]']    \n",
            " ization)                       )                                                                 \n",
            "                                                                                                  \n",
            " conv4_block2_add (Add)         (None, 14, 14, 1024  0           ['conv4_block1_out[0][0]',       \n",
            "                                )                                 'conv4_block2_3_bn[0][0]']      \n",
            "                                                                                                  \n",
            " conv4_block2_out (Activation)  (None, 14, 14, 1024  0           ['conv4_block2_add[0][0]']       \n",
            "                                )                                                                 \n",
            "                                                                                                  \n",
            " conv4_block3_1_conv (Conv2D)   (None, 14, 14, 256)  262400      ['conv4_block2_out[0][0]']       \n",
            "                                                                                                  \n",
            " conv4_block3_1_bn (BatchNormal  (None, 14, 14, 256)  1024       ['conv4_block3_1_conv[0][0]']    \n",
            " ization)                                                                                         \n",
            "                                                                                                  \n",
            " conv4_block3_1_relu (Activatio  (None, 14, 14, 256)  0          ['conv4_block3_1_bn[0][0]']      \n",
            " n)                                                                                               \n",
            "                                                                                                  \n",
            " conv4_block3_2_conv (Conv2D)   (None, 14, 14, 256)  590080      ['conv4_block3_1_relu[0][0]']    \n",
            "                                                                                                  \n",
            " conv4_block3_2_bn (BatchNormal  (None, 14, 14, 256)  1024       ['conv4_block3_2_conv[0][0]']    \n",
            " ization)                                                                                         \n",
            "                                                                                                  \n",
            " conv4_block3_2_relu (Activatio  (None, 14, 14, 256)  0          ['conv4_block3_2_bn[0][0]']      \n",
            " n)                                                                                               \n",
            "                                                                                                  \n",
            " conv4_block3_3_conv (Conv2D)   (None, 14, 14, 1024  263168      ['conv4_block3_2_relu[0][0]']    \n",
            "                                )                                                                 \n",
            "                                                                                                  \n",
            " conv4_block3_3_bn (BatchNormal  (None, 14, 14, 1024  4096       ['conv4_block3_3_conv[0][0]']    \n",
            " ization)                       )                                                                 \n",
            "                                                                                                  \n",
            " conv4_block3_add (Add)         (None, 14, 14, 1024  0           ['conv4_block2_out[0][0]',       \n",
            "                                )                                 'conv4_block3_3_bn[0][0]']      \n",
            "                                                                                                  \n",
            " conv4_block3_out (Activation)  (None, 14, 14, 1024  0           ['conv4_block3_add[0][0]']       \n",
            "                                )                                                                 \n",
            "                                                                                                  \n",
            " conv4_block4_1_conv (Conv2D)   (None, 14, 14, 256)  262400      ['conv4_block3_out[0][0]']       \n",
            "                                                                                                  \n",
            " conv4_block4_1_bn (BatchNormal  (None, 14, 14, 256)  1024       ['conv4_block4_1_conv[0][0]']    \n",
            " ization)                                                                                         \n",
            "                                                                                                  \n",
            " conv4_block4_1_relu (Activatio  (None, 14, 14, 256)  0          ['conv4_block4_1_bn[0][0]']      \n",
            " n)                                                                                               \n",
            "                                                                                                  \n",
            " conv4_block4_2_conv (Conv2D)   (None, 14, 14, 256)  590080      ['conv4_block4_1_relu[0][0]']    \n",
            "                                                                                                  \n",
            " conv4_block4_2_bn (BatchNormal  (None, 14, 14, 256)  1024       ['conv4_block4_2_conv[0][0]']    \n",
            " ization)                                                                                         \n",
            "                                                                                                  \n",
            " conv4_block4_2_relu (Activatio  (None, 14, 14, 256)  0          ['conv4_block4_2_bn[0][0]']      \n",
            " n)                                                                                               \n",
            "                                                                                                  \n",
            " conv4_block4_3_conv (Conv2D)   (None, 14, 14, 1024  263168      ['conv4_block4_2_relu[0][0]']    \n",
            "                                )                                                                 \n",
            "                                                                                                  \n",
            " conv4_block4_3_bn (BatchNormal  (None, 14, 14, 1024  4096       ['conv4_block4_3_conv[0][0]']    \n",
            " ization)                       )                                                                 \n",
            "                                                                                                  \n",
            " conv4_block4_add (Add)         (None, 14, 14, 1024  0           ['conv4_block3_out[0][0]',       \n",
            "                                )                                 'conv4_block4_3_bn[0][0]']      \n",
            "                                                                                                  \n",
            " conv4_block4_out (Activation)  (None, 14, 14, 1024  0           ['conv4_block4_add[0][0]']       \n",
            "                                )                                                                 \n",
            "                                                                                                  \n",
            " conv4_block5_1_conv (Conv2D)   (None, 14, 14, 256)  262400      ['conv4_block4_out[0][0]']       \n",
            "                                                                                                  \n",
            " conv4_block5_1_bn (BatchNormal  (None, 14, 14, 256)  1024       ['conv4_block5_1_conv[0][0]']    \n",
            " ization)                                                                                         \n",
            "                                                                                                  \n",
            " conv4_block5_1_relu (Activatio  (None, 14, 14, 256)  0          ['conv4_block5_1_bn[0][0]']      \n",
            " n)                                                                                               \n",
            "                                                                                                  \n",
            " conv4_block5_2_conv (Conv2D)   (None, 14, 14, 256)  590080      ['conv4_block5_1_relu[0][0]']    \n",
            "                                                                                                  \n",
            " conv4_block5_2_bn (BatchNormal  (None, 14, 14, 256)  1024       ['conv4_block5_2_conv[0][0]']    \n",
            " ization)                                                                                         \n",
            "                                                                                                  \n",
            " conv4_block5_2_relu (Activatio  (None, 14, 14, 256)  0          ['conv4_block5_2_bn[0][0]']      \n",
            " n)                                                                                               \n",
            "                                                                                                  \n",
            " conv4_block5_3_conv (Conv2D)   (None, 14, 14, 1024  263168      ['conv4_block5_2_relu[0][0]']    \n",
            "                                )                                                                 \n",
            "                                                                                                  \n",
            " conv4_block5_3_bn (BatchNormal  (None, 14, 14, 1024  4096       ['conv4_block5_3_conv[0][0]']    \n",
            " ization)                       )                                                                 \n",
            "                                                                                                  \n",
            " conv4_block5_add (Add)         (None, 14, 14, 1024  0           ['conv4_block4_out[0][0]',       \n",
            "                                )                                 'conv4_block5_3_bn[0][0]']      \n",
            "                                                                                                  \n",
            " conv4_block5_out (Activation)  (None, 14, 14, 1024  0           ['conv4_block5_add[0][0]']       \n",
            "                                )                                                                 \n",
            "                                                                                                  \n",
            " conv4_block6_1_conv (Conv2D)   (None, 14, 14, 256)  262400      ['conv4_block5_out[0][0]']       \n",
            "                                                                                                  \n",
            " conv4_block6_1_bn (BatchNormal  (None, 14, 14, 256)  1024       ['conv4_block6_1_conv[0][0]']    \n",
            " ization)                                                                                         \n",
            "                                                                                                  \n",
            " conv4_block6_1_relu (Activatio  (None, 14, 14, 256)  0          ['conv4_block6_1_bn[0][0]']      \n",
            " n)                                                                                               \n",
            "                                                                                                  \n",
            " conv4_block6_2_conv (Conv2D)   (None, 14, 14, 256)  590080      ['conv4_block6_1_relu[0][0]']    \n",
            "                                                                                                  \n",
            " conv4_block6_2_bn (BatchNormal  (None, 14, 14, 256)  1024       ['conv4_block6_2_conv[0][0]']    \n",
            " ization)                                                                                         \n",
            "                                                                                                  \n",
            " conv4_block6_2_relu (Activatio  (None, 14, 14, 256)  0          ['conv4_block6_2_bn[0][0]']      \n",
            " n)                                                                                               \n",
            "                                                                                                  \n",
            " conv4_block6_3_conv (Conv2D)   (None, 14, 14, 1024  263168      ['conv4_block6_2_relu[0][0]']    \n",
            "                                )                                                                 \n",
            "                                                                                                  \n",
            " conv4_block6_3_bn (BatchNormal  (None, 14, 14, 1024  4096       ['conv4_block6_3_conv[0][0]']    \n",
            " ization)                       )                                                                 \n",
            "                                                                                                  \n",
            " conv4_block6_add (Add)         (None, 14, 14, 1024  0           ['conv4_block5_out[0][0]',       \n",
            "                                )                                 'conv4_block6_3_bn[0][0]']      \n",
            "                                                                                                  \n",
            " conv4_block6_out (Activation)  (None, 14, 14, 1024  0           ['conv4_block6_add[0][0]']       \n",
            "                                )                                                                 \n",
            "                                                                                                  \n",
            " conv5_block1_1_conv (Conv2D)   (None, 7, 7, 512)    524800      ['conv4_block6_out[0][0]']       \n",
            "                                                                                                  \n",
            " conv5_block1_1_bn (BatchNormal  (None, 7, 7, 512)   2048        ['conv5_block1_1_conv[0][0]']    \n",
            " ization)                                                                                         \n",
            "                                                                                                  \n",
            " conv5_block1_1_relu (Activatio  (None, 7, 7, 512)   0           ['conv5_block1_1_bn[0][0]']      \n",
            " n)                                                                                               \n",
            "                                                                                                  \n",
            " conv5_block1_2_conv (Conv2D)   (None, 7, 7, 512)    2359808     ['conv5_block1_1_relu[0][0]']    \n",
            "                                                                                                  \n",
            " conv5_block1_2_bn (BatchNormal  (None, 7, 7, 512)   2048        ['conv5_block1_2_conv[0][0]']    \n",
            " ization)                                                                                         \n",
            "                                                                                                  \n",
            " conv5_block1_2_relu (Activatio  (None, 7, 7, 512)   0           ['conv5_block1_2_bn[0][0]']      \n",
            " n)                                                                                               \n",
            "                                                                                                  \n",
            " conv5_block1_0_conv (Conv2D)   (None, 7, 7, 2048)   2099200     ['conv4_block6_out[0][0]']       \n",
            "                                                                                                  \n",
            " conv5_block1_3_conv (Conv2D)   (None, 7, 7, 2048)   1050624     ['conv5_block1_2_relu[0][0]']    \n",
            "                                                                                                  \n",
            " conv5_block1_0_bn (BatchNormal  (None, 7, 7, 2048)  8192        ['conv5_block1_0_conv[0][0]']    \n",
            " ization)                                                                                         \n",
            "                                                                                                  \n",
            " conv5_block1_3_bn (BatchNormal  (None, 7, 7, 2048)  8192        ['conv5_block1_3_conv[0][0]']    \n",
            " ization)                                                                                         \n",
            "                                                                                                  \n",
            " conv5_block1_add (Add)         (None, 7, 7, 2048)   0           ['conv5_block1_0_bn[0][0]',      \n",
            "                                                                  'conv5_block1_3_bn[0][0]']      \n",
            "                                                                                                  \n",
            " conv5_block1_out (Activation)  (None, 7, 7, 2048)   0           ['conv5_block1_add[0][0]']       \n",
            "                                                                                                  \n",
            " conv5_block2_1_conv (Conv2D)   (None, 7, 7, 512)    1049088     ['conv5_block1_out[0][0]']       \n",
            "                                                                                                  \n",
            " conv5_block2_1_bn (BatchNormal  (None, 7, 7, 512)   2048        ['conv5_block2_1_conv[0][0]']    \n",
            " ization)                                                                                         \n",
            "                                                                                                  \n",
            " conv5_block2_1_relu (Activatio  (None, 7, 7, 512)   0           ['conv5_block2_1_bn[0][0]']      \n",
            " n)                                                                                               \n",
            "                                                                                                  \n",
            " conv5_block2_2_conv (Conv2D)   (None, 7, 7, 512)    2359808     ['conv5_block2_1_relu[0][0]']    \n",
            "                                                                                                  \n",
            " conv5_block2_2_bn (BatchNormal  (None, 7, 7, 512)   2048        ['conv5_block2_2_conv[0][0]']    \n",
            " ization)                                                                                         \n",
            "                                                                                                  \n",
            " conv5_block2_2_relu (Activatio  (None, 7, 7, 512)   0           ['conv5_block2_2_bn[0][0]']      \n",
            " n)                                                                                               \n",
            "                                                                                                  \n",
            " conv5_block2_3_conv (Conv2D)   (None, 7, 7, 2048)   1050624     ['conv5_block2_2_relu[0][0]']    \n",
            "                                                                                                  \n",
            " conv5_block2_3_bn (BatchNormal  (None, 7, 7, 2048)  8192        ['conv5_block2_3_conv[0][0]']    \n",
            " ization)                                                                                         \n",
            "                                                                                                  \n",
            " conv5_block2_add (Add)         (None, 7, 7, 2048)   0           ['conv5_block1_out[0][0]',       \n",
            "                                                                  'conv5_block2_3_bn[0][0]']      \n",
            "                                                                                                  \n",
            " conv5_block2_out (Activation)  (None, 7, 7, 2048)   0           ['conv5_block2_add[0][0]']       \n",
            "                                                                                                  \n",
            " conv5_block3_1_conv (Conv2D)   (None, 7, 7, 512)    1049088     ['conv5_block2_out[0][0]']       \n",
            "                                                                                                  \n",
            " conv5_block3_1_bn (BatchNormal  (None, 7, 7, 512)   2048        ['conv5_block3_1_conv[0][0]']    \n",
            " ization)                                                                                         \n",
            "                                                                                                  \n",
            " conv5_block3_1_relu (Activatio  (None, 7, 7, 512)   0           ['conv5_block3_1_bn[0][0]']      \n",
            " n)                                                                                               \n",
            "                                                                                                  \n",
            " conv5_block3_2_conv (Conv2D)   (None, 7, 7, 512)    2359808     ['conv5_block3_1_relu[0][0]']    \n",
            "                                                                                                  \n",
            " conv5_block3_2_bn (BatchNormal  (None, 7, 7, 512)   2048        ['conv5_block3_2_conv[0][0]']    \n",
            " ization)                                                                                         \n",
            "                                                                                                  \n",
            " conv5_block3_2_relu (Activatio  (None, 7, 7, 512)   0           ['conv5_block3_2_bn[0][0]']      \n",
            " n)                                                                                               \n",
            "                                                                                                  \n",
            " conv5_block3_3_conv (Conv2D)   (None, 7, 7, 2048)   1050624     ['conv5_block3_2_relu[0][0]']    \n",
            "                                                                                                  \n",
            " conv5_block3_3_bn (BatchNormal  (None, 7, 7, 2048)  8192        ['conv5_block3_3_conv[0][0]']    \n",
            " ization)                                                                                         \n",
            "                                                                                                  \n",
            " conv5_block3_add (Add)         (None, 7, 7, 2048)   0           ['conv5_block2_out[0][0]',       \n",
            "                                                                  'conv5_block3_3_bn[0][0]']      \n",
            "                                                                                                  \n",
            " conv5_block3_out (Activation)  (None, 7, 7, 2048)   0           ['conv5_block3_add[0][0]']       \n",
            "                                                                                                  \n",
            " pooling (GlobalAveragePooling2  (None, 2048)        0           ['conv5_block3_out[0][0]']       \n",
            " D)                                                                                               \n",
            "                                                                                                  \n",
            " outputs (Dense)                (None, 1)            2049        ['pooling[0][0]']                \n",
            "                                                                                                  \n",
            "==================================================================================================\n",
            "Total params: 23,589,761\n",
            "Trainable params: 23,536,641\n",
            "Non-trainable params: 53,120\n",
            "__________________________________________________________________________________________________\n"
          ]
        }
      ],
      "source": [
        "model = build_model()\n",
        "model.summary()"
      ]
    },
    {
      "cell_type": "markdown",
      "source": [
        "Train mô hình"
      ],
      "metadata": {
        "id": "CpxF7cOr6qsp"
      },
      "id": "CpxF7cOr6qsp"
    },
    {
      "cell_type": "code",
      "execution_count": null,
      "id": "c7d13492",
      "metadata": {
        "execution": {
          "iopub.execute_input": "2023-03-11T17:37:12.231809Z",
          "iopub.status.busy": "2023-03-11T17:37:12.231308Z",
          "iopub.status.idle": "2023-03-11T17:37:12.262679Z",
          "shell.execute_reply": "2023-03-11T17:37:12.261254Z"
        },
        "id": "c7d13492",
        "papermill": {
          "duration": 0.08228,
          "end_time": "2023-03-11T17:37:12.266197",
          "exception": false,
          "start_time": "2023-03-11T17:37:12.183917",
          "status": "completed"
        },
        "tags": []
      },
      "outputs": [],
      "source": [
        "model.compile(optimizer = tf.keras.optimizers.Adam(learning_rate=0.001),\n",
        "              loss = tf.keras.losses.BinaryCrossentropy(), \n",
        "              metrics = ['binary_accuracy'])"
      ]
    },
    {
      "cell_type": "code",
      "execution_count": null,
      "id": "0ce166a8",
      "metadata": {
        "execution": {
          "iopub.execute_input": "2023-03-11T17:37:12.361513Z",
          "iopub.status.busy": "2023-03-11T17:37:12.360361Z",
          "iopub.status.idle": "2023-03-11T17:37:12.367310Z",
          "shell.execute_reply": "2023-03-11T17:37:12.365637Z"
        },
        "id": "0ce166a8",
        "papermill": {
          "duration": 0.058323,
          "end_time": "2023-03-11T17:37:12.370367",
          "exception": false,
          "start_time": "2023-03-11T17:37:12.312044",
          "status": "completed"
        },
        "tags": []
      },
      "outputs": [],
      "source": [
        "# model_checkpoint_callback = tf.keras.callbacks.ModelCheckpoint(\n",
        "#     filepath='/content/drive/MyDrive/Các công cụ lập trình AI/checkpoint.h5',\n",
        "#     save_weights_only=True,\n",
        "#     monitor='val_accuracy',\n",
        "#     mode='max')"
      ]
    },
    {
      "cell_type": "code",
      "execution_count": null,
      "id": "14b8da25",
      "metadata": {
        "execution": {
          "iopub.execute_input": "2023-03-11T17:37:12.465272Z",
          "iopub.status.busy": "2023-03-11T17:37:12.464481Z",
          "iopub.status.idle": "2023-03-11T21:31:02.169100Z",
          "shell.execute_reply": "2023-03-11T21:31:02.167882Z"
        },
        "id": "14b8da25",
        "jupyter": {
          "outputs_hidden": true
        },
        "papermill": {
          "duration": 14029.754935,
          "end_time": "2023-03-11T21:31:02.171985",
          "exception": false,
          "start_time": "2023-03-11T17:37:12.417050",
          "status": "completed"
        },
        "tags": [],
        "outputId": "59b00785-7b37-4c08-d77a-fe9f5785ab7d"
      },
      "outputs": [
        {
          "name": "stdout",
          "output_type": "stream",
          "text": [
            "Epoch 1/100\n",
            "226/226 [==============================] - 231s 761ms/step - loss: 0.2437 - binary_accuracy: 0.9010 - val_loss: 5.7663 - val_binary_accuracy: 0.4990\n",
            "Epoch 2/100\n",
            "226/226 [==============================] - 143s 630ms/step - loss: 0.1307 - binary_accuracy: 0.9471 - val_loss: 0.6985 - val_binary_accuracy: 0.5188\n",
            "Epoch 3/100\n",
            "226/226 [==============================] - 141s 622ms/step - loss: 0.1017 - binary_accuracy: 0.9597 - val_loss: 0.9883 - val_binary_accuracy: 0.5000\n",
            "Epoch 4/100\n",
            "226/226 [==============================] - 141s 622ms/step - loss: 0.0849 - binary_accuracy: 0.9669 - val_loss: 0.3723 - val_binary_accuracy: 0.8476\n",
            "Epoch 5/100\n",
            "226/226 [==============================] - 142s 626ms/step - loss: 0.0668 - binary_accuracy: 0.9737 - val_loss: 0.2410 - val_binary_accuracy: 0.9012\n",
            "Epoch 6/100\n",
            "226/226 [==============================] - 141s 624ms/step - loss: 0.0594 - binary_accuracy: 0.9765 - val_loss: 0.6377 - val_binary_accuracy: 0.7370\n",
            "Epoch 7/100\n",
            "226/226 [==============================] - 160s 706ms/step - loss: 0.0641 - binary_accuracy: 0.9763 - val_loss: 1.2132 - val_binary_accuracy: 0.6707\n",
            "Epoch 8/100\n",
            "226/226 [==============================] - 142s 626ms/step - loss: 0.0451 - binary_accuracy: 0.9833 - val_loss: 0.6372 - val_binary_accuracy: 0.7289\n",
            "Epoch 9/100\n",
            "226/226 [==============================] - 141s 621ms/step - loss: 0.0358 - binary_accuracy: 0.9869 - val_loss: 1.7554 - val_binary_accuracy: 0.7217\n",
            "Epoch 10/100\n",
            "226/226 [==============================] - 142s 629ms/step - loss: 0.0391 - binary_accuracy: 0.9864 - val_loss: 0.2586 - val_binary_accuracy: 0.9049\n",
            "Epoch 11/100\n",
            "226/226 [==============================] - 143s 631ms/step - loss: 0.0325 - binary_accuracy: 0.9891 - val_loss: 0.3021 - val_binary_accuracy: 0.9072\n",
            "Epoch 12/100\n",
            "226/226 [==============================] - 141s 621ms/step - loss: 0.0333 - binary_accuracy: 0.9878 - val_loss: 0.2299 - val_binary_accuracy: 0.9270\n",
            "Epoch 13/100\n",
            "226/226 [==============================] - 143s 632ms/step - loss: 0.0284 - binary_accuracy: 0.9891 - val_loss: 0.3137 - val_binary_accuracy: 0.8934\n",
            "Epoch 14/100\n",
            "226/226 [==============================] - 142s 625ms/step - loss: 0.0202 - binary_accuracy: 0.9936 - val_loss: 0.3452 - val_binary_accuracy: 0.8483\n",
            "Epoch 15/100\n",
            "226/226 [==============================] - 141s 624ms/step - loss: 0.0339 - binary_accuracy: 0.9881 - val_loss: 0.3121 - val_binary_accuracy: 0.8806\n",
            "Epoch 16/100\n",
            "226/226 [==============================] - 142s 626ms/step - loss: 0.0156 - binary_accuracy: 0.9949 - val_loss: 0.4362 - val_binary_accuracy: 0.8691\n",
            "Epoch 17/100\n",
            "226/226 [==============================] - 142s 626ms/step - loss: 0.0324 - binary_accuracy: 0.9874 - val_loss: 0.1830 - val_binary_accuracy: 0.9293\n",
            "Epoch 18/100\n",
            "226/226 [==============================] - 142s 628ms/step - loss: 0.0204 - binary_accuracy: 0.9929 - val_loss: 0.3551 - val_binary_accuracy: 0.9118\n",
            "Epoch 19/100\n",
            "226/226 [==============================] - 134s 593ms/step - loss: 0.0162 - binary_accuracy: 0.9942 - val_loss: 0.2327 - val_binary_accuracy: 0.9338\n",
            "Epoch 20/100\n",
            "226/226 [==============================] - 131s 579ms/step - loss: 0.0135 - binary_accuracy: 0.9951 - val_loss: 0.2601 - val_binary_accuracy: 0.9255\n",
            "Epoch 21/100\n",
            "226/226 [==============================] - 131s 580ms/step - loss: 0.0272 - binary_accuracy: 0.9899 - val_loss: 0.2395 - val_binary_accuracy: 0.9097\n",
            "Epoch 22/100\n",
            "226/226 [==============================] - 131s 580ms/step - loss: 0.0165 - binary_accuracy: 0.9946 - val_loss: 0.3150 - val_binary_accuracy: 0.8896\n",
            "Epoch 23/100\n",
            "226/226 [==============================] - 131s 581ms/step - loss: 0.0105 - binary_accuracy: 0.9961 - val_loss: 0.8079 - val_binary_accuracy: 0.8709\n",
            "Epoch 24/100\n",
            "226/226 [==============================] - 132s 582ms/step - loss: 0.0249 - binary_accuracy: 0.9915 - val_loss: 0.3078 - val_binary_accuracy: 0.9098\n",
            "Epoch 25/100\n",
            "226/226 [==============================] - 131s 579ms/step - loss: 0.0194 - binary_accuracy: 0.9933 - val_loss: 0.3685 - val_binary_accuracy: 0.9127\n",
            "Epoch 26/100\n",
            "226/226 [==============================] - 131s 581ms/step - loss: 0.0119 - binary_accuracy: 0.9957 - val_loss: 0.1888 - val_binary_accuracy: 0.9429\n",
            "Epoch 27/100\n",
            "226/226 [==============================] - 132s 581ms/step - loss: 0.0111 - binary_accuracy: 0.9962 - val_loss: 0.4188 - val_binary_accuracy: 0.9153\n",
            "Epoch 28/100\n",
            "226/226 [==============================] - 131s 581ms/step - loss: 0.0227 - binary_accuracy: 0.9925 - val_loss: 0.4708 - val_binary_accuracy: 0.8879\n",
            "Epoch 29/100\n",
            "226/226 [==============================] - 132s 583ms/step - loss: 0.0179 - binary_accuracy: 0.9942 - val_loss: 0.2059 - val_binary_accuracy: 0.9301\n",
            "Epoch 30/100\n",
            "226/226 [==============================] - 131s 580ms/step - loss: 0.0076 - binary_accuracy: 0.9976 - val_loss: 0.2238 - val_binary_accuracy: 0.9449\n",
            "Epoch 31/100\n",
            "226/226 [==============================] - 132s 582ms/step - loss: 0.0218 - binary_accuracy: 0.9927 - val_loss: 0.2933 - val_binary_accuracy: 0.9118\n",
            "Epoch 32/100\n",
            "226/226 [==============================] - 131s 581ms/step - loss: 0.0146 - binary_accuracy: 0.9952 - val_loss: 0.2019 - val_binary_accuracy: 0.9288\n",
            "Epoch 33/100\n",
            "226/226 [==============================] - 131s 580ms/step - loss: 0.0041 - binary_accuracy: 0.9988 - val_loss: 0.2204 - val_binary_accuracy: 0.9340\n",
            "Epoch 34/100\n",
            "226/226 [==============================] - 132s 581ms/step - loss: 0.0035 - binary_accuracy: 0.9988 - val_loss: 0.5175 - val_binary_accuracy: 0.8518\n",
            "Epoch 35/100\n",
            "226/226 [==============================] - 132s 582ms/step - loss: 0.0222 - binary_accuracy: 0.9922 - val_loss: 0.2369 - val_binary_accuracy: 0.9200\n",
            "Epoch 36/100\n",
            "226/226 [==============================] - 131s 581ms/step - loss: 0.0146 - binary_accuracy: 0.9950 - val_loss: 0.2349 - val_binary_accuracy: 0.9343\n",
            "Epoch 37/100\n",
            "226/226 [==============================] - 135s 599ms/step - loss: 0.0073 - binary_accuracy: 0.9978 - val_loss: 0.3923 - val_binary_accuracy: 0.8877\n",
            "Epoch 38/100\n",
            "226/226 [==============================] - 132s 582ms/step - loss: 0.0103 - binary_accuracy: 0.9961 - val_loss: 0.4084 - val_binary_accuracy: 0.8473\n",
            "Epoch 39/100\n",
            "226/226 [==============================] - 132s 582ms/step - loss: 0.0119 - binary_accuracy: 0.9956 - val_loss: 0.5212 - val_binary_accuracy: 0.9002\n",
            "Epoch 40/100\n",
            "226/226 [==============================] - 132s 581ms/step - loss: 0.0073 - binary_accuracy: 0.9974 - val_loss: 0.6535 - val_binary_accuracy: 0.8570\n",
            "Epoch 41/100\n",
            "226/226 [==============================] - 131s 581ms/step - loss: 0.0146 - binary_accuracy: 0.9951 - val_loss: 0.4552 - val_binary_accuracy: 0.8849\n",
            "Epoch 42/100\n",
            "226/226 [==============================] - 132s 582ms/step - loss: 0.0051 - binary_accuracy: 0.9984 - val_loss: 0.2923 - val_binary_accuracy: 0.9220\n",
            "Epoch 43/100\n",
            "226/226 [==============================] - 132s 584ms/step - loss: 0.0116 - binary_accuracy: 0.9962 - val_loss: 0.3962 - val_binary_accuracy: 0.8817\n",
            "Epoch 44/100\n",
            "226/226 [==============================] - 132s 583ms/step - loss: 0.0148 - binary_accuracy: 0.9943 - val_loss: 0.2969 - val_binary_accuracy: 0.9190\n",
            "Epoch 45/100\n",
            "226/226 [==============================] - 132s 581ms/step - loss: 0.0083 - binary_accuracy: 0.9972 - val_loss: 0.3065 - val_binary_accuracy: 0.9153\n",
            "Epoch 46/100\n",
            "226/226 [==============================] - 132s 581ms/step - loss: 0.0027 - binary_accuracy: 0.9993 - val_loss: 0.2121 - val_binary_accuracy: 0.9454\n",
            "Epoch 47/100\n",
            "226/226 [==============================] - 132s 581ms/step - loss: 0.0022 - binary_accuracy: 0.9995 - val_loss: 0.2347 - val_binary_accuracy: 0.9419\n",
            "Epoch 48/100\n",
            "226/226 [==============================] - 132s 583ms/step - loss: 0.0211 - binary_accuracy: 0.9932 - val_loss: 1.5329 - val_binary_accuracy: 0.7102\n",
            "Epoch 49/100\n",
            "226/226 [==============================] - 132s 582ms/step - loss: 0.0138 - binary_accuracy: 0.9952 - val_loss: 0.2710 - val_binary_accuracy: 0.9120\n",
            "Epoch 50/100\n",
            "226/226 [==============================] - 132s 581ms/step - loss: 0.0067 - binary_accuracy: 0.9980 - val_loss: 0.3348 - val_binary_accuracy: 0.9080\n",
            "Epoch 51/100\n",
            "226/226 [==============================] - 132s 584ms/step - loss: 0.0074 - binary_accuracy: 0.9976 - val_loss: 0.3142 - val_binary_accuracy: 0.9232\n",
            "Epoch 52/100\n",
            "226/226 [==============================] - 132s 582ms/step - loss: 0.0091 - binary_accuracy: 0.9971 - val_loss: 0.3368 - val_binary_accuracy: 0.9069\n",
            "Epoch 53/100\n",
            "226/226 [==============================] - 132s 582ms/step - loss: 0.0061 - binary_accuracy: 0.9980 - val_loss: 0.2795 - val_binary_accuracy: 0.9235\n",
            "Epoch 54/100\n",
            "226/226 [==============================] - 132s 581ms/step - loss: 0.0088 - binary_accuracy: 0.9975 - val_loss: 0.3947 - val_binary_accuracy: 0.8696\n",
            "Epoch 55/100\n",
            "226/226 [==============================] - 132s 581ms/step - loss: 0.0075 - binary_accuracy: 0.9976 - val_loss: 0.5072 - val_binary_accuracy: 0.8916\n",
            "Epoch 56/100\n",
            "226/226 [==============================] - 132s 582ms/step - loss: 0.0036 - binary_accuracy: 0.9992 - val_loss: 0.2133 - val_binary_accuracy: 0.9506\n",
            "Epoch 57/100\n",
            "226/226 [==============================] - 132s 583ms/step - loss: 0.0064 - binary_accuracy: 0.9979 - val_loss: 0.6648 - val_binary_accuracy: 0.8436\n",
            "Epoch 58/100\n",
            "226/226 [==============================] - 132s 582ms/step - loss: 0.0060 - binary_accuracy: 0.9982 - val_loss: 0.5241 - val_binary_accuracy: 0.8247\n",
            "Epoch 59/100\n",
            "226/226 [==============================] - 131s 580ms/step - loss: 0.0035 - binary_accuracy: 0.9988 - val_loss: 0.2791 - val_binary_accuracy: 0.9203\n",
            "Epoch 60/100\n",
            "226/226 [==============================] - 132s 582ms/step - loss: 0.0081 - binary_accuracy: 0.9974 - val_loss: 0.4408 - val_binary_accuracy: 0.8292\n",
            "Epoch 61/100\n",
            "226/226 [==============================] - 132s 583ms/step - loss: 0.0136 - binary_accuracy: 0.9952 - val_loss: 0.3459 - val_binary_accuracy: 0.9015\n",
            "Epoch 62/100\n",
            "226/226 [==============================] - 132s 583ms/step - loss: 0.0044 - binary_accuracy: 0.9984 - val_loss: 0.3418 - val_binary_accuracy: 0.9074\n",
            "Epoch 63/100\n",
            "226/226 [==============================] - 132s 582ms/step - loss: 0.0062 - binary_accuracy: 0.9980 - val_loss: 0.3906 - val_binary_accuracy: 0.9228\n",
            "Epoch 64/100\n",
            "226/226 [==============================] - 132s 585ms/step - loss: 0.0160 - binary_accuracy: 0.9947 - val_loss: 0.3675 - val_binary_accuracy: 0.8914\n",
            "Epoch 65/100\n",
            "226/226 [==============================] - 133s 585ms/step - loss: 0.0056 - binary_accuracy: 0.9979 - val_loss: 0.1868 - val_binary_accuracy: 0.9488\n",
            "Epoch 66/100\n",
            "226/226 [==============================] - 132s 584ms/step - loss: 6.7384e-04 - binary_accuracy: 0.9999 - val_loss: 0.2028 - val_binary_accuracy: 0.9583\n",
            "Epoch 67/100\n",
            "226/226 [==============================] - 132s 583ms/step - loss: 2.1241e-04 - binary_accuracy: 1.0000 - val_loss: 0.2095 - val_binary_accuracy: 0.9579\n",
            "Epoch 68/100\n",
            "226/226 [==============================] - 133s 585ms/step - loss: 9.0469e-05 - binary_accuracy: 1.0000 - val_loss: 0.2054 - val_binary_accuracy: 0.9589\n",
            "Epoch 69/100\n",
            "226/226 [==============================] - 133s 588ms/step - loss: 5.7825e-05 - binary_accuracy: 1.0000 - val_loss: 0.2159 - val_binary_accuracy: 0.9587\n",
            "Epoch 70/100\n",
            "226/226 [==============================] - 133s 588ms/step - loss: 2.1884e-05 - binary_accuracy: 1.0000 - val_loss: 0.2159 - val_binary_accuracy: 0.9591\n",
            "Epoch 71/100\n",
            "226/226 [==============================] - 132s 582ms/step - loss: 1.7864e-05 - binary_accuracy: 1.0000 - val_loss: 0.2184 - val_binary_accuracy: 0.9592\n",
            "Epoch 72/100\n",
            "226/226 [==============================] - 132s 584ms/step - loss: 2.0846e-05 - binary_accuracy: 1.0000 - val_loss: 0.2215 - val_binary_accuracy: 0.9597\n",
            "Epoch 73/100\n",
            "226/226 [==============================] - 132s 584ms/step - loss: 9.6519e-06 - binary_accuracy: 1.0000 - val_loss: 0.2241 - val_binary_accuracy: 0.9601\n",
            "Epoch 74/100\n",
            "226/226 [==============================] - 132s 582ms/step - loss: 9.2768e-06 - binary_accuracy: 1.0000 - val_loss: 0.2259 - val_binary_accuracy: 0.9599\n",
            "Epoch 75/100\n",
            "226/226 [==============================] - 132s 585ms/step - loss: 8.9387e-04 - binary_accuracy: 0.9998 - val_loss: 5.0573 - val_binary_accuracy: 0.5647\n",
            "Epoch 76/100\n",
            "226/226 [==============================] - 132s 582ms/step - loss: 0.0581 - binary_accuracy: 0.9810 - val_loss: 0.2210 - val_binary_accuracy: 0.9215\n",
            "Epoch 77/100\n",
            "226/226 [==============================] - 132s 584ms/step - loss: 0.0071 - binary_accuracy: 0.9977 - val_loss: 0.2986 - val_binary_accuracy: 0.9198\n",
            "Epoch 78/100\n",
            "226/226 [==============================] - 136s 602ms/step - loss: 0.0024 - binary_accuracy: 0.9992 - val_loss: 0.1915 - val_binary_accuracy: 0.9543\n",
            "Epoch 79/100\n",
            "226/226 [==============================] - 132s 582ms/step - loss: 0.0014 - binary_accuracy: 0.9996 - val_loss: 0.2315 - val_binary_accuracy: 0.9508\n",
            "Epoch 80/100\n",
            "226/226 [==============================] - 132s 585ms/step - loss: 0.0034 - binary_accuracy: 0.9986 - val_loss: 0.4630 - val_binary_accuracy: 0.9165\n",
            "Epoch 81/100\n",
            "226/226 [==============================] - 132s 583ms/step - loss: 0.0069 - binary_accuracy: 0.9977 - val_loss: 0.4527 - val_binary_accuracy: 0.8022\n",
            "Epoch 82/100\n",
            "226/226 [==============================] - 132s 585ms/step - loss: 0.0132 - binary_accuracy: 0.9952 - val_loss: 0.2852 - val_binary_accuracy: 0.8989\n",
            "Epoch 83/100\n",
            "226/226 [==============================] - 136s 600ms/step - loss: 0.0029 - binary_accuracy: 0.9991 - val_loss: 0.2365 - val_binary_accuracy: 0.9488\n",
            "Epoch 84/100\n",
            "226/226 [==============================] - 132s 584ms/step - loss: 0.0019 - binary_accuracy: 0.9995 - val_loss: 0.2604 - val_binary_accuracy: 0.9371\n",
            "Epoch 85/100\n",
            "226/226 [==============================] - 132s 582ms/step - loss: 0.0018 - binary_accuracy: 0.9995 - val_loss: 0.2586 - val_binary_accuracy: 0.9291\n",
            "Epoch 86/100\n",
            "226/226 [==============================] - 132s 585ms/step - loss: 0.0039 - binary_accuracy: 0.9986 - val_loss: 0.3181 - val_binary_accuracy: 0.9079\n",
            "Epoch 87/100\n",
            "226/226 [==============================] - 132s 585ms/step - loss: 0.0102 - binary_accuracy: 0.9969 - val_loss: 0.3871 - val_binary_accuracy: 0.8782\n",
            "Epoch 88/100\n",
            "226/226 [==============================] - 132s 584ms/step - loss: 0.0103 - binary_accuracy: 0.9964 - val_loss: 0.3227 - val_binary_accuracy: 0.9137\n",
            "Epoch 89/100\n",
            "226/226 [==============================] - 132s 584ms/step - loss: 0.0017 - binary_accuracy: 0.9996 - val_loss: 0.2908 - val_binary_accuracy: 0.9360\n",
            "Epoch 90/100\n",
            "226/226 [==============================] - 132s 583ms/step - loss: 0.0011 - binary_accuracy: 0.9995 - val_loss: 0.2632 - val_binary_accuracy: 0.9423\n",
            "Epoch 91/100\n",
            "226/226 [==============================] - 133s 587ms/step - loss: 5.7087e-04 - binary_accuracy: 0.9998 - val_loss: 0.2206 - val_binary_accuracy: 0.9529\n",
            "Epoch 92/100\n",
            "226/226 [==============================] - 132s 584ms/step - loss: 6.6178e-05 - binary_accuracy: 1.0000 - val_loss: 0.2329 - val_binary_accuracy: 0.9546\n",
            "Epoch 93/100\n",
            "226/226 [==============================] - 132s 585ms/step - loss: 2.5540e-05 - binary_accuracy: 1.0000 - val_loss: 0.2407 - val_binary_accuracy: 0.9538\n",
            "Epoch 94/100\n",
            "226/226 [==============================] - 132s 582ms/step - loss: 1.6972e-05 - binary_accuracy: 1.0000 - val_loss: 0.2409 - val_binary_accuracy: 0.9551\n",
            "Epoch 95/100\n",
            "226/226 [==============================] - 132s 584ms/step - loss: 1.7472e-05 - binary_accuracy: 1.0000 - val_loss: 0.2443 - val_binary_accuracy: 0.9534\n",
            "Epoch 96/100\n",
            "226/226 [==============================] - 132s 583ms/step - loss: 9.5287e-06 - binary_accuracy: 1.0000 - val_loss: 0.2461 - val_binary_accuracy: 0.9538\n",
            "Epoch 97/100\n",
            "226/226 [==============================] - 132s 583ms/step - loss: 9.6522e-06 - binary_accuracy: 1.0000 - val_loss: 0.2477 - val_binary_accuracy: 0.9544\n",
            "Epoch 98/100\n",
            "226/226 [==============================] - 136s 601ms/step - loss: 6.5027e-06 - binary_accuracy: 1.0000 - val_loss: 0.2495 - val_binary_accuracy: 0.9548\n",
            "Epoch 99/100\n",
            "226/226 [==============================] - 132s 583ms/step - loss: 6.0117e-06 - binary_accuracy: 1.0000 - val_loss: 0.2539 - val_binary_accuracy: 0.9539\n",
            "Epoch 100/100\n",
            "226/226 [==============================] - 132s 583ms/step - loss: 6.8097e-06 - binary_accuracy: 1.0000 - val_loss: 0.2557 - val_binary_accuracy: 0.9554\n"
          ]
        }
      ],
      "source": [
        "#With Earlystop only\n",
        "# early_stop_callbacks = tf.keras.callbacks.EarlyStopping(patience=5, monitor='val_loss', restore_best_weights=True)\n",
        "history = model.fit(img_train, validation_data = img_val, epochs = 100)#, callbacks = model_checkpoint_callback)"
      ]
    },
    {
      "cell_type": "markdown",
      "source": [
        "# Lưu mô hình"
      ],
      "metadata": {
        "id": "Wsuc6URb6a05"
      },
      "id": "Wsuc6URb6a05"
    },
    {
      "cell_type": "code",
      "execution_count": null,
      "id": "36359150",
      "metadata": {
        "execution": {
          "iopub.execute_input": "2023-03-11T21:31:07.431816Z",
          "iopub.status.busy": "2023-03-11T21:31:07.431366Z",
          "iopub.status.idle": "2023-03-11T21:31:08.480584Z",
          "shell.execute_reply": "2023-03-11T21:31:08.479516Z"
        },
        "papermill": {
          "duration": 2.321686,
          "end_time": "2023-03-11T21:31:08.483307",
          "exception": false,
          "start_time": "2023-03-11T21:31:06.161621",
          "status": "completed"
        },
        "tags": [],
        "id": "36359150"
      },
      "outputs": [],
      "source": [
        "model.save('CatDogGray.h5')"
      ]
    },
    {
      "cell_type": "code",
      "source": [
        "model.save_weights(\"model_weight.h5\")"
      ],
      "metadata": {
        "id": "XBIVIGEfJ7vh"
      },
      "id": "XBIVIGEfJ7vh",
      "execution_count": null,
      "outputs": []
    },
    {
      "cell_type": "markdown",
      "source": [
        "# Đánh giá mô hình"
      ],
      "metadata": {
        "id": "YfSONnD66W_D"
      },
      "id": "YfSONnD66W_D"
    },
    {
      "cell_type": "code",
      "execution_count": null,
      "id": "2a3dfc68",
      "metadata": {
        "execution": {
          "iopub.execute_input": "2023-03-11T21:31:14.598431Z",
          "iopub.status.busy": "2023-03-11T21:31:14.598047Z",
          "iopub.status.idle": "2023-03-11T21:31:26.327734Z",
          "shell.execute_reply": "2023-03-11T21:31:26.326732Z"
        },
        "id": "2a3dfc68",
        "papermill": {
          "duration": 13.074211,
          "end_time": "2023-03-11T21:31:26.330008",
          "exception": false,
          "start_time": "2023-03-11T21:31:13.255797",
          "status": "completed"
        },
        "tags": [],
        "outputId": "a21207bc-a70b-443c-dd0f-9bdc9ae2f579"
      },
      "outputs": [
        {
          "name": "stdout",
          "output_type": "stream",
          "text": [
            "16/16 [==============================] - 11s 656ms/step\n"
          ]
        }
      ],
      "source": [
        "y_pred = model.predict(img_test)"
      ]
    },
    {
      "cell_type": "code",
      "execution_count": null,
      "id": "a86232c5",
      "metadata": {
        "execution": {
          "iopub.execute_input": "2023-03-11T21:31:29.003381Z",
          "iopub.status.busy": "2023-03-11T21:31:29.002778Z",
          "iopub.status.idle": "2023-03-11T21:31:29.009056Z",
          "shell.execute_reply": "2023-03-11T21:31:29.007988Z"
        },
        "id": "a86232c5",
        "papermill": {
          "duration": 1.416327,
          "end_time": "2023-03-11T21:31:29.011297",
          "exception": false,
          "start_time": "2023-03-11T21:31:27.594970",
          "status": "completed"
        },
        "tags": []
      },
      "outputs": [],
      "source": [
        "y_true = img_test.labels"
      ]
    },
    {
      "cell_type": "code",
      "execution_count": null,
      "id": "3732b473",
      "metadata": {
        "execution": {
          "iopub.execute_input": "2023-03-11T21:31:31.871184Z",
          "iopub.status.busy": "2023-03-11T21:31:31.870118Z",
          "iopub.status.idle": "2023-03-11T21:31:31.880684Z",
          "shell.execute_reply": "2023-03-11T21:31:31.879611Z"
        },
        "id": "3732b473",
        "papermill": {
          "duration": 1.329444,
          "end_time": "2023-03-11T21:31:31.882867",
          "exception": false,
          "start_time": "2023-03-11T21:31:30.553423",
          "status": "completed"
        },
        "tags": [],
        "outputId": "1e8b054a-4960-4859-fdee-e4cabd74a459"
      },
      "outputs": [
        {
          "data": {
            "text/plain": [
              "array([[0],\n",
              "       [0],\n",
              "       [0],\n",
              "       ...,\n",
              "       [1],\n",
              "       [1],\n",
              "       [1]], dtype=int32)"
            ]
          },
          "execution_count": 20,
          "metadata": {},
          "output_type": "execute_result"
        }
      ],
      "source": [
        "y_true.reshape(-1, 1)"
      ]
    },
    {
      "cell_type": "code",
      "execution_count": null,
      "id": "61e1d25c",
      "metadata": {
        "execution": {
          "iopub.execute_input": "2023-03-11T21:31:35.002590Z",
          "iopub.status.busy": "2023-03-11T21:31:35.002176Z",
          "iopub.status.idle": "2023-03-11T21:31:35.013744Z",
          "shell.execute_reply": "2023-03-11T21:31:35.012615Z"
        },
        "id": "61e1d25c",
        "papermill": {
          "duration": 1.724259,
          "end_time": "2023-03-11T21:31:35.016129",
          "exception": false,
          "start_time": "2023-03-11T21:31:33.291870",
          "status": "completed"
        },
        "tags": [],
        "outputId": "323caeda-f4c7-4d89-9b76-5615d2905bb1"
      },
      "outputs": [
        {
          "data": {
            "text/plain": [
              "array([[0],\n",
              "       [1],\n",
              "       [0],\n",
              "       ...,\n",
              "       [0],\n",
              "       [1],\n",
              "       [1]])"
            ]
          },
          "execution_count": 21,
          "metadata": {},
          "output_type": "execute_result"
        }
      ],
      "source": [
        "y_pred = np.where(y_pred > 0.5, 1,0)\n",
        "y_pred"
      ]
    },
    {
      "cell_type": "code",
      "execution_count": null,
      "id": "078d096e",
      "metadata": {
        "execution": {
          "iopub.execute_input": "2023-03-11T21:31:37.689150Z",
          "iopub.status.busy": "2023-03-11T21:31:37.687799Z",
          "iopub.status.idle": "2023-03-11T21:32:39.452723Z",
          "shell.execute_reply": "2023-03-11T21:32:39.451641Z"
        },
        "id": "078d096e",
        "papermill": {
          "duration": 63.122631,
          "end_time": "2023-03-11T21:32:39.455124",
          "exception": false,
          "start_time": "2023-03-11T21:31:36.332493",
          "status": "completed"
        },
        "tags": [],
        "outputId": "a2f60f9a-117f-4b79-901d-f8e46ace6a83"
      },
      "outputs": [
        {
          "name": "stdout",
          "output_type": "stream",
          "text": [
            "226/226 [==============================] - 62s 271ms/step - loss: 1.7974e-06 - binary_accuracy: 1.0000\n"
          ]
        },
        {
          "data": {
            "text/plain": [
              "[1.7973649164559902e-06, 1.0]"
            ]
          },
          "execution_count": 22,
          "metadata": {},
          "output_type": "execute_result"
        }
      ],
      "source": [
        "model.evaluate(img_train)"
      ]
    },
    {
      "cell_type": "code",
      "execution_count": null,
      "id": "3a9c0411",
      "metadata": {
        "execution": {
          "iopub.execute_input": "2023-03-11T21:32:42.422427Z",
          "iopub.status.busy": "2023-03-11T21:32:42.421701Z",
          "iopub.status.idle": "2023-03-11T21:32:59.694370Z",
          "shell.execute_reply": "2023-03-11T21:32:59.693050Z"
        },
        "id": "3a9c0411",
        "papermill": {
          "duration": 18.664628,
          "end_time": "2023-03-11T21:32:59.696801",
          "exception": false,
          "start_time": "2023-03-11T21:32:41.032173",
          "status": "completed"
        },
        "tags": [],
        "outputId": "1b162781-e9d8-49b8-de02-d12f740bcac3"
      },
      "outputs": [
        {
          "name": "stdout",
          "output_type": "stream",
          "text": [
            "61/61 [==============================] - 17s 277ms/step - loss: 0.2557 - binary_accuracy: 0.9554\n"
          ]
        },
        {
          "data": {
            "text/plain": [
              "[0.25565922260284424, 0.9554224610328674]"
            ]
          },
          "execution_count": 23,
          "metadata": {},
          "output_type": "execute_result"
        }
      ],
      "source": [
        "model.evaluate(img_val)"
      ]
    },
    {
      "cell_type": "code",
      "execution_count": null,
      "id": "78ea6cff",
      "metadata": {
        "execution": {
          "iopub.execute_input": "2023-03-11T21:33:02.686507Z",
          "iopub.status.busy": "2023-03-11T21:33:02.686135Z",
          "iopub.status.idle": "2023-03-11T21:33:08.039849Z",
          "shell.execute_reply": "2023-03-11T21:33:08.038649Z"
        },
        "id": "78ea6cff",
        "papermill": {
          "duration": 6.997535,
          "end_time": "2023-03-11T21:33:08.042247",
          "exception": false,
          "start_time": "2023-03-11T21:33:01.044712",
          "status": "completed"
        },
        "tags": [],
        "outputId": "173741d2-bed4-443c-ca8e-1c6b82ebd923"
      },
      "outputs": [
        {
          "name": "stdout",
          "output_type": "stream",
          "text": [
            "16/16 [==============================] - 4s 254ms/step - loss: 0.2564 - binary_accuracy: 0.9648\n"
          ]
        },
        {
          "data": {
            "text/plain": [
              "[0.25642359256744385, 0.9647606611251831]"
            ]
          },
          "execution_count": 24,
          "metadata": {},
          "output_type": "execute_result"
        }
      ],
      "source": [
        "model.evaluate(img_test)"
      ]
    },
    {
      "cell_type": "code",
      "execution_count": null,
      "id": "ddf0f8b8",
      "metadata": {
        "execution": {
          "iopub.execute_input": "2023-03-11T21:33:10.755342Z",
          "iopub.status.busy": "2023-03-11T21:33:10.754618Z",
          "iopub.status.idle": "2023-03-11T21:33:10.787604Z",
          "shell.execute_reply": "2023-03-11T21:33:10.786618Z"
        },
        "id": "ddf0f8b8",
        "papermill": {
          "duration": 1.423112,
          "end_time": "2023-03-11T21:33:10.790076",
          "exception": false,
          "start_time": "2023-03-11T21:33:09.366964",
          "status": "completed"
        },
        "tags": [],
        "outputId": "c109da06-37a9-4ff7-8843-1f26a16b203e"
      },
      "outputs": [
        {
          "data": {
            "text/plain": [
              "0.96476066"
            ]
          },
          "execution_count": 25,
          "metadata": {},
          "output_type": "execute_result"
        }
      ],
      "source": [
        "metrics_acc = tf.keras.metrics.Accuracy()\n",
        "metrics_acc.update_state(y_true,y_pred)\n",
        "metrics_acc.result().numpy()"
      ]
    },
    {
      "cell_type": "code",
      "execution_count": null,
      "id": "719d224f",
      "metadata": {
        "execution": {
          "iopub.execute_input": "2023-03-11T21:33:13.686117Z",
          "iopub.status.busy": "2023-03-11T21:33:13.685747Z",
          "iopub.status.idle": "2023-03-11T21:33:13.693909Z",
          "shell.execute_reply": "2023-03-11T21:33:13.692850Z"
        },
        "id": "719d224f",
        "papermill": {
          "duration": 1.461828,
          "end_time": "2023-03-11T21:33:13.696070",
          "exception": false,
          "start_time": "2023-03-11T21:33:12.234242",
          "status": "completed"
        },
        "tags": [],
        "outputId": "95e317f8-6627-46a1-f5e1-d546cbaa02fb"
      },
      "outputs": [
        {
          "data": {
            "text/plain": [
              "0.9647606382978723"
            ]
          },
          "execution_count": 26,
          "metadata": {},
          "output_type": "execute_result"
        }
      ],
      "source": [
        "accuracy_score(y_true, y_pred)"
      ]
    },
    {
      "cell_type": "code",
      "execution_count": null,
      "id": "7c9231ea",
      "metadata": {
        "execution": {
          "iopub.execute_input": "2023-03-11T21:33:16.358992Z",
          "iopub.status.busy": "2023-03-11T21:33:16.358631Z",
          "iopub.status.idle": "2023-03-11T21:33:16.367959Z",
          "shell.execute_reply": "2023-03-11T21:33:16.366735Z"
        },
        "id": "7c9231ea",
        "papermill": {
          "duration": 1.300352,
          "end_time": "2023-03-11T21:33:16.370211",
          "exception": false,
          "start_time": "2023-03-11T21:33:15.069859",
          "status": "completed"
        },
        "tags": [],
        "outputId": "c908ef23-95ae-4f3b-f5ff-491ab9165144"
      },
      "outputs": [
        {
          "data": {
            "text/plain": [
              "array([[722,  31],\n",
              "       [ 22, 729]])"
            ]
          },
          "execution_count": 27,
          "metadata": {},
          "output_type": "execute_result"
        }
      ],
      "source": [
        "confusion_matrix(y_true,y_pred)"
      ]
    },
    {
      "cell_type": "code",
      "execution_count": null,
      "id": "b932ecef",
      "metadata": {
        "execution": {
          "iopub.execute_input": "2023-03-11T21:33:19.538819Z",
          "iopub.status.busy": "2023-03-11T21:33:19.538429Z",
          "iopub.status.idle": "2023-03-11T21:33:19.549671Z",
          "shell.execute_reply": "2023-03-11T21:33:19.548496Z"
        },
        "id": "b932ecef",
        "papermill": {
          "duration": 1.639383,
          "end_time": "2023-03-11T21:33:19.551808",
          "exception": false,
          "start_time": "2023-03-11T21:33:17.912425",
          "status": "completed"
        },
        "tags": [],
        "outputId": "18dc7d60-20a9-4df2-bbb3-ed7283a1d358"
      },
      "outputs": [
        {
          "name": "stdout",
          "output_type": "stream",
          "text": [
            "              precision    recall  f1-score   support\n",
            "\n",
            "           0       0.97      0.96      0.96       753\n",
            "           1       0.96      0.97      0.96       751\n",
            "\n",
            "    accuracy                           0.96      1504\n",
            "   macro avg       0.96      0.96      0.96      1504\n",
            "weighted avg       0.96      0.96      0.96      1504\n",
            "\n"
          ]
        }
      ],
      "source": [
        "print(classification_report(y_true,y_pred))"
      ]
    },
    {
      "cell_type": "code",
      "execution_count": null,
      "id": "dcb9d4da",
      "metadata": {
        "execution": {
          "iopub.execute_input": "2023-03-11T21:33:22.274134Z",
          "iopub.status.busy": "2023-03-11T21:33:22.273514Z",
          "iopub.status.idle": "2023-03-11T21:33:22.724577Z",
          "shell.execute_reply": "2023-03-11T21:33:22.723543Z"
        },
        "id": "dcb9d4da",
        "papermill": {
          "duration": 1.837181,
          "end_time": "2023-03-11T21:33:22.727005",
          "exception": false,
          "start_time": "2023-03-11T21:33:20.889824",
          "status": "completed"
        },
        "tags": [],
        "outputId": "c8622364-57d7-4793-c6d7-a14fdb910790"
      },
      "outputs": [
        {
          "data": {
            "image/png": "[encoded data removed]",
            "text/plain": [
              "<Figure size 640x480 with 1 Axes>"
            ]
          },
          "metadata": {},
          "output_type": "display_data"
        },
        {
          "data": {
            "image/png": "[encoded data removed]",
            "text/plain": [
              "<Figure size 640x480 with 1 Axes>"
            ]
          },
          "metadata": {},
          "output_type": "display_data"
        }
      ],
      "source": [
        "# summarize history for accuracy\n",
        "plt.plot(history.history['binary_accuracy'])\n",
        "plt.plot(history.history['val_binary_accuracy'])\n",
        "plt.title('model accuracy')\n",
        "plt.ylabel('accuracy')\n",
        "plt.xlabel('epoch')\n",
        "plt.legend(['train', 'test'], loc='lower right')\n",
        "plt.show()\n",
        "# summarize history for loss\n",
        "plt.plot(history.history['loss'])\n",
        "plt.plot(history.history['val_loss'])\n",
        "plt.title('model loss')\n",
        "plt.ylabel('loss')\n",
        "plt.xlabel('epoch')\n",
        "plt.legend(['train', 'test'], loc='upper right')\n",
        "plt.show()"
      ]
    },
    {
      "cell_type": "markdown",
      "source": [
        "# Demo"
      ],
      "metadata": {
        "id": "L5CCxwdc6ToO"
      },
      "id": "L5CCxwdc6ToO"
    },
    {
      "cell_type": "markdown",
      "source": [
        "Load mô hình"
      ],
      "metadata": {
        "id": "HEqX0F5J9I0R"
      },
      "id": "HEqX0F5J9I0R"
    },
    {
      "cell_type": "code",
      "source": [
        "model = tf.keras.models.load_model('/content/drive/MyDrive/Các công cụ lập trình AI/CatDogGray.h5')"
      ],
      "metadata": {
        "id": "xoareZ2QtUdc"
      },
      "id": "xoareZ2QtUdc",
      "execution_count": null,
      "outputs": []
    },
    {
      "cell_type": "code",
      "source": [
        "model.summary()"
      ],
      "metadata": {
        "id": "vbTNhLVgLSuR"
      },
      "id": "vbTNhLVgLSuR",
      "execution_count": null,
      "outputs": []
    },
    {
      "cell_type": "markdown",
      "source": [
        "Dữ liệu từ tập test"
      ],
      "metadata": {
        "id": "KTnb7cGo9Klz"
      },
      "id": "KTnb7cGo9Klz"
    },
    {
      "cell_type": "code",
      "source": [
        "img, label = img_test.next()"
      ],
      "metadata": {
        "id": "D7st6ecp2Wbf"
      },
      "id": "D7st6ecp2Wbf",
      "execution_count": null,
      "outputs": []
    },
    {
      "cell_type": "code",
      "source": [
        "labels = ['cats', 'dogs']"
      ],
      "metadata": {
        "id": "qYILNWok3wo9"
      },
      "id": "qYILNWok3wo9",
      "execution_count": null,
      "outputs": []
    },
    {
      "cell_type": "code",
      "source": [
        "y_pred = model.predict(img[0].reshape(1,224,224,3))\n",
        "y_pred = np.where(y_pred > 0.5, 1,0)\n",
        "labels[y_pred[0][0]]"
      ],
      "metadata": {
        "colab": {
          "base_uri": "https://localhost:8080/",
          "height": 54
        },
        "id": "vS2MsUlI3fAF",
        "outputId": "76654bf2-7399-4a31-b170-61454be964be"
      },
      "id": "vS2MsUlI3fAF",
      "execution_count": null,
      "outputs": [
        {
          "output_type": "stream",
          "name": "stdout",
          "text": [
            "1/1 [==============================] - 9s 9s/step\n"
          ]
        },
        {
          "output_type": "execute_result",
          "data": {
            "text/plain": [
              "'cats'"
            ],
            "application/vnd.google.colaboratory.intrinsic+json": {
              "type": "string"
            }
          },
          "metadata": {},
          "execution_count": 15
        }
      ]
    },
    {
      "cell_type": "code",
      "source": [
        "y_pred = model.predict(img[0].reshape(1,224,224,3))\n",
        "y_pred"
      ],
      "metadata": {
        "colab": {
          "base_uri": "https://localhost:8080/"
        },
        "id": "zmxlWO4CLt45",
        "outputId": "0eb42c49-8678-4461-bf0d-bee88425faa7"
      },
      "id": "zmxlWO4CLt45",
      "execution_count": null,
      "outputs": [
        {
          "output_type": "stream",
          "name": "stdout",
          "text": [
            "1/1 [==============================] - 0s 25ms/step\n"
          ]
        },
        {
          "output_type": "execute_result",
          "data": {
            "text/plain": [
              "array([[1.3652735e-13]], dtype=float32)"
            ]
          },
          "metadata": {},
          "execution_count": 16
        }
      ]
    },
    {
      "cell_type": "code",
      "source": [
        "plt.imshow(img[0])\n",
        "labels[int(label[0])]"
      ],
      "metadata": {
        "colab": {
          "base_uri": "https://localhost:8080/",
          "height": 453
        },
        "id": "_LibhuLk35uZ",
        "outputId": "296c2b85-fa3d-49b6-db5d-0bc8585ee079"
      },
      "id": "_LibhuLk35uZ",
      "execution_count": null,
      "outputs": [
        {
          "output_type": "execute_result",
          "data": {
            "text/plain": [
              "'cats'"
            ],
            "application/vnd.google.colaboratory.intrinsic+json": {
              "type": "string"
            }
          },
          "metadata": {},
          "execution_count": 17
        },
        {
          "output_type": "display_data",
          "data": {
            "text/plain": [
              "<Figure size 640x480 with 1 Axes>"
            ],
            "image/png": "[encoded data removed]"
          },
          "metadata": {}
        }
      ]
    },
    {
      "cell_type": "markdown",
      "source": [
        "Dữ liệu ngoài tập test "
      ],
      "metadata": {
        "id": "al95sbPU9MxJ"
      },
      "id": "al95sbPU9MxJ"
    },
    {
      "cell_type": "code",
      "source": [
        "dog_img = cv2.imread(\"/content/2013-03-28_421270381365376112.jpg\")\n",
        "dog_img = cv2.resize(dog_img, [224, 224])\n",
        "dog_img = dog_img / 255\n",
        "# dog_img = cv2.merge(dog_img, dog_img, dog_img)"
      ],
      "metadata": {
        "id": "DvLnyN1x75fq"
      },
      "id": "DvLnyN1x75fq",
      "execution_count": null,
      "outputs": []
    },
    {
      "cell_type": "code",
      "source": [
        "y_pred = model.predict(np.array([dog_img]))\n",
        "print(y_pred)\n",
        "y_pred = np.where(y_pred > 0.5, 1,0)\n",
        "print(labels[y_pred[0][0]])\n",
        "plt.imshow(dog_img)"
      ],
      "metadata": {
        "colab": {
          "base_uri": "https://localhost:8080/",
          "height": 507
        },
        "id": "deSaIq0e88Ca",
        "outputId": "676dfb0b-b21f-4988-ef8c-a005540c4c62"
      },
      "id": "deSaIq0e88Ca",
      "execution_count": null,
      "outputs": [
        {
          "output_type": "stream",
          "name": "stdout",
          "text": [
            "1/1 [==============================] - 0s 43ms/step\n",
            "[[0.9998734]]\n",
            "dogs\n"
          ]
        },
        {
          "output_type": "execute_result",
          "data": {
            "text/plain": [
              "<matplotlib.image.AxesImage at 0x7f0f34df1970>"
            ]
          },
          "metadata": {},
          "execution_count": 30
        },
        {
          "output_type": "display_data",
          "data": {
            "text/plain": [
              "<Figure size 640x480 with 1 Axes>"
            ],
            "image/png": "[encoded data removed]"
          },
          "metadata": {}
        }
      ]
    }
  ],
  "metadata": {
    "kernelspec": {
      "display_name": "Python 3",
      "language": "python",
      "name": "python3"
    },
    "language_info": {
      "codemirror_mode": {
        "name": "ipython",
        "version": 3
      },
      "file_extension": ".py",
      "mimetype": "text/x-python",
      "name": "python",
      "nbconvert_exporter": "python",
      "pygments_lexer": "ipython3",
      "version": "3.7.12"
    },
    "papermill": {
      "default_parameters": {},
      "duration": 14227.940629,
      "end_time": "2023-03-11T21:33:27.297371",
      "environment_variables": {},
      "exception": null,
      "input_path": "__notebook__.ipynb",
      "output_path": "__notebook__.ipynb",
      "parameters": {},
      "start_time": "2023-03-11T17:36:19.356742",
      "version": "2.4.0"
    },
    "colab": {
      "provenance": [],
      "collapsed_sections": [
        "2kQReip36xJZ",
        "SYGKouKQ60if",
        "E9yM2eXQ6tmK",
        "Wsuc6URb6a05",
        "YfSONnD66W_D",
        "L5CCxwdc6ToO"
      ],
      "gpuType": "T4"
    },
    "accelerator": "GPU",
    "gpuClass": "standard"
  },
  "nbformat": 4,
  "nbformat_minor": 5
}